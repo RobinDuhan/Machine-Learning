{
 "cells": [
  {
   "cell_type": "markdown",
   "metadata": {},
   "source": [
    "<h1> 18BCS6150 </h1>\n",
    "<h3> 18BCS6150 </h3>\n",
    "<b> Robin Duhan </b>"
   ]
  },
  {
   "cell_type": "code",
   "execution_count": 1,
   "metadata": {
    "_cell_guid": "b1076dfc-b9ad-4769-8c92-a6c4dae69d19",
    "_uuid": "8f2839f25d086af736a60e9eeb907d3b93b6e0e5"
   },
   "outputs": [],
   "source": [
    "# This Python 3 environment comes with many helpful analytics libraries installed\n",
    "# It is defined by the kaggle/python Docker image: https://github.com/kaggle/docker-python\n",
    "# For example, here's several helpful packages to load\n",
    "\n",
    "import numpy as np # linear algebra\n",
    "import pandas as pd # data processing, CSV file I/O (e.g. pd.read_csv)\n",
    "\n",
    "# Input data files are available in the read-only \"../input/\" directory\n",
    "# For example, running this (by clicking run or pressing Shift+Enter) will list all files under the input directory\n",
    "\n",
    "import os\n",
    "for dirname, _, filenames in os.walk('/kaggle/input'):\n",
    "    for filename in filenames:\n",
    "        print(os.path.join(dirname, filename))\n",
    "\n",
    "# You can write up to 20GB to the current directory (/kaggle/working/) that gets preserved as output when you create a version using \"Save & Run All\" \n",
    "# You can also write temporary files to /kaggle/temp/, but they won't be saved outside of the current session"
   ]
  },
  {
   "cell_type": "markdown",
   "metadata": {},
   "source": [
    "<b> Reading and understanding the data </b>"
   ]
  },
  {
   "cell_type": "code",
   "execution_count": 4,
   "metadata": {
    "_cell_guid": "79c7e3d0-c299-4dcb-8224-4455121ee9b0",
    "_uuid": "d629ff2d2480ee46fbb7e2d37f6b5fab8052498a"
   },
   "outputs": [],
   "source": [
    "dataset = pd.read_csv(\"D:/Data/train.csv\")"
   ]
  },
  {
   "cell_type": "code",
   "execution_count": 5,
   "metadata": {},
   "outputs": [
    {
     "data": {
      "text/plain": [
       "(42000, 785)"
      ]
     },
     "execution_count": 5,
     "metadata": {},
     "output_type": "execute_result"
    }
   ],
   "source": [
    "dataset.shape"
   ]
  },
  {
   "cell_type": "code",
   "execution_count": 6,
   "metadata": {},
   "outputs": [],
   "source": [
    "y = dataset.iloc[:,0].values\n",
    "x = dataset.iloc[:,1:].values\n",
    "\n",
    "x = x.astype('float32')\n",
    "y = y.astype('float32')"
   ]
  },
  {
   "cell_type": "markdown",
   "metadata": {},
   "source": [
    "<b> Scalling the data and chossing 10 percent of the data for out modek </b>"
   ]
  },
  {
   "cell_type": "code",
   "execution_count": 20,
   "metadata": {},
   "outputs": [],
   "source": [
    "#Stadard scalling\n",
    "from sklearn.preprocessing import StandardScaler\n",
    "sc = StandardScaler()\n",
    "x = sc.fit_transform(x)"
   ]
  },
  {
   "cell_type": "code",
   "execution_count": 8,
   "metadata": {},
   "outputs": [
    {
     "data": {
      "text/plain": [
       "(42000,)"
      ]
     },
     "execution_count": 8,
     "metadata": {},
     "output_type": "execute_result"
    }
   ],
   "source": [
    "y.shape"
   ]
  },
  {
   "cell_type": "code",
   "execution_count": 9,
   "metadata": {},
   "outputs": [],
   "source": [
    "x = x[0:12000][:]\n",
    "y = y[0:12000]"
   ]
  },
  {
   "cell_type": "code",
   "execution_count": 10,
   "metadata": {},
   "outputs": [
    {
     "data": {
      "text/plain": [
       "(12000, 784)"
      ]
     },
     "execution_count": 10,
     "metadata": {},
     "output_type": "execute_result"
    }
   ],
   "source": [
    "x.shape"
   ]
  },
  {
   "cell_type": "markdown",
   "metadata": {},
   "source": [
    "<b> Splitting the dataset into training and testing set </b>"
   ]
  },
  {
   "cell_type": "code",
   "execution_count": 11,
   "metadata": {},
   "outputs": [],
   "source": [
    "#Splitting the dataset\n",
    "from sklearn.model_selection import train_test_split\n",
    "x_train,x_test,y_train,y_test = train_test_split(x,y,random_state = 0,test_size = 0.2)"
   ]
  },
  {
   "cell_type": "code",
   "execution_count": 12,
   "metadata": {},
   "outputs": [
    {
     "data": {
      "text/plain": [
       "(9600, 784)"
      ]
     },
     "execution_count": 12,
     "metadata": {},
     "output_type": "execute_result"
    }
   ],
   "source": [
    "x_train.shape"
   ]
  },
  {
   "cell_type": "code",
   "execution_count": 13,
   "metadata": {},
   "outputs": [
    {
     "data": {
      "text/plain": [
       "(2400, 784)"
      ]
     },
     "execution_count": 13,
     "metadata": {},
     "output_type": "execute_result"
    }
   ],
   "source": [
    "x_test.shape"
   ]
  },
  {
   "cell_type": "markdown",
   "metadata": {},
   "source": [
    "<h3> Linear Model </h3>"
   ]
  },
  {
   "cell_type": "code",
   "execution_count": 14,
   "metadata": {},
   "outputs": [
    {
     "data": {
      "text/plain": [
       "SVC(kernel='linear')"
      ]
     },
     "execution_count": 14,
     "metadata": {},
     "output_type": "execute_result"
    }
   ],
   "source": [
    "#First building a linear SVM model\n",
    "\n",
    "from sklearn.svm import SVC\n",
    "from sklearn import metrics\n",
    "from sklearn.metrics import confusion_matrix\n",
    "from sklearn.model_selection import KFold\n",
    "from sklearn.model_selection import cross_val_score\n",
    "from sklearn.model_selection import GridSearchCV\n",
    "\n",
    "model_linear = SVC(kernel='linear')\n",
    "model_linear.fit(x_train, y_train)"
   ]
  },
  {
   "cell_type": "code",
   "execution_count": 15,
   "metadata": {},
   "outputs": [],
   "source": [
    "y_pred = model_linear.predict(x_test)"
   ]
  },
  {
   "cell_type": "code",
   "execution_count": 16,
   "metadata": {},
   "outputs": [
    {
     "name": "stdout",
     "output_type": "stream",
     "text": [
      "accuracy: 0.9133333333333333 \n",
      "\n",
      "[[199   0   2   1   1   2   0   0   2   0]\n",
      " [  0 257   1   0   2   0   1   0   1   1]\n",
      " [  0   4 233   3   2   2   1   2   6   1]\n",
      " [  0   2   4 225   0  10   0   2   4   1]\n",
      " [  0   0   1   0 217   0   1   0   0   5]\n",
      " [  2   1   6  15   1 206   2   1   5   1]\n",
      " [  2   0   3   0   2   4 244   0   2   0]\n",
      " [  0   2   3   2   9   0   0 237   0  11]\n",
      " [  3   4   3   9   2   7   4   1 188   2]\n",
      " [  0   1   4   1  13   1   0  12   2 186]]\n"
     ]
    }
   ],
   "source": [
    "print(\"accuracy:\", metrics.accuracy_score(y_true=y_test, y_pred=y_pred), \"\\n\")\n",
    "# cm\n",
    "print(metrics.confusion_matrix(y_true=y_test, y_pred=y_pred))\n"
   ]
  },
  {
   "cell_type": "markdown",
   "metadata": {},
   "source": [
    "<b> Accuracy of 91 percent when trained on 10 percent data </b>"
   ]
  },
  {
   "cell_type": "markdown",
   "metadata": {},
   "source": [
    "<h3> Non Linear SVC model </h3>"
   ]
  },
  {
   "cell_type": "code",
   "execution_count": 17,
   "metadata": {},
   "outputs": [
    {
     "data": {
      "text/plain": [
       "SVC()"
      ]
     },
     "execution_count": 17,
     "metadata": {},
     "output_type": "execute_result"
    }
   ],
   "source": [
    "non_linear_model = SVC(kernel='rbf')\n",
    "# fit\n",
    "non_linear_model.fit(x_train, y_train)"
   ]
  },
  {
   "cell_type": "code",
   "execution_count": 18,
   "metadata": {},
   "outputs": [
    {
     "name": "stdout",
     "output_type": "stream",
     "text": [
      "accuracy: 0.935 \n",
      "\n",
      "[[195   0   3   0   1   1   4   0   3   0]\n",
      " [  0 259   2   0   1   0   1   0   0   0]\n",
      " [  0   2 236   5   2   0   2   2   5   0]\n",
      " [  0   1   3 233   0   2   0   2   6   1]\n",
      " [  0   0   5   0 214   0   0   3   0   2]\n",
      " [  1   1   2   6   2 223   3   0   1   1]\n",
      " [  2   0   5   0   2   3 243   0   2   0]\n",
      " [  0   1   5   1   6   0   0 245   0   6]\n",
      " [  2   2   6   4   2   2   2   0 201   2]\n",
      " [  2   1   6   2   7   1   0   6   0 195]]\n"
     ]
    }
   ],
   "source": [
    "y_pred = non_linear_model.predict(x_test)\n",
    "\n",
    "print(\"accuracy:\", metrics.accuracy_score(y_true=y_test, y_pred=y_pred), \"\\n\")\n",
    "# cm\n",
    "print(metrics.confusion_matrix(y_true=y_test, y_pred=y_pred))"
   ]
  },
  {
   "cell_type": "markdown",
   "metadata": {},
   "source": [
    "<b> With rbf kernal, it gives us 93.5 percent accuracy </b>"
   ]
  },
  {
   "cell_type": "code",
   "execution_count": 50,
   "metadata": {},
   "outputs": [
    {
     "name": "stdout",
     "output_type": "stream",
     "text": [
      "Fitting 5 folds for each of 12 candidates, totalling 60 fits\n"
     ]
    },
    {
     "name": "stderr",
     "output_type": "stream",
     "text": [
      "[Parallel(n_jobs=1)]: Using backend SequentialBackend with 1 concurrent workers.\n",
      "[Parallel(n_jobs=1)]: Done  60 out of  60 | elapsed: 112.5min finished\n"
     ]
    },
    {
     "data": {
      "text/plain": [
       "GridSearchCV(cv=KFold(n_splits=5, random_state=101, shuffle=True),\n",
       "             estimator=SVC(),\n",
       "             param_grid=[{'C': [1, 10, 100, 1000],\n",
       "                          'gamma': [0.01, 0.001, 0.0001]}],\n",
       "             return_train_score=True, scoring='accuracy', verbose=1)"
      ]
     },
     "execution_count": 50,
     "metadata": {},
     "output_type": "execute_result"
    }
   ],
   "source": [
    "#Finding the optimal hyperparameters\n",
    "\n",
    "\n",
    "folds = KFold(n_splits = 5, shuffle = True, random_state = 101)\n",
    "# specify range of hyperparameters\n",
    "# Set the parameters by cross-validation\n",
    "hyper_params = [ {'gamma': [1e-2, 1e-3, 1e-4],'C': [1, 10, 100, 1000]}]\n",
    "# specify model\n",
    "model = SVC(kernel=\"rbf\")\n",
    "# set up GridSearchCV()\n",
    "model_cv = GridSearchCV(estimator = model,param_grid = hyper_params,scoring= 'accuracy',\n",
    "                        cv = folds,verbose = 1,return_train_score=True)\n",
    "# fit the model\n",
    "model_cv.fit(x_train, y_train)"
   ]
  },
  {
   "cell_type": "code",
   "execution_count": 51,
   "metadata": {},
   "outputs": [
    {
     "data": {
      "text/html": [
       "<div>\n",
       "<style scoped>\n",
       "    .dataframe tbody tr th:only-of-type {\n",
       "        vertical-align: middle;\n",
       "    }\n",
       "\n",
       "    .dataframe tbody tr th {\n",
       "        vertical-align: top;\n",
       "    }\n",
       "\n",
       "    .dataframe thead th {\n",
       "        text-align: right;\n",
       "    }\n",
       "</style>\n",
       "<table border=\"1\" class=\"dataframe\">\n",
       "  <thead>\n",
       "    <tr style=\"text-align: right;\">\n",
       "      <th></th>\n",
       "      <th>mean_fit_time</th>\n",
       "      <th>std_fit_time</th>\n",
       "      <th>mean_score_time</th>\n",
       "      <th>std_score_time</th>\n",
       "      <th>param_C</th>\n",
       "      <th>param_gamma</th>\n",
       "      <th>params</th>\n",
       "      <th>split0_test_score</th>\n",
       "      <th>split1_test_score</th>\n",
       "      <th>split2_test_score</th>\n",
       "      <th>...</th>\n",
       "      <th>mean_test_score</th>\n",
       "      <th>std_test_score</th>\n",
       "      <th>rank_test_score</th>\n",
       "      <th>split0_train_score</th>\n",
       "      <th>split1_train_score</th>\n",
       "      <th>split2_train_score</th>\n",
       "      <th>split3_train_score</th>\n",
       "      <th>split4_train_score</th>\n",
       "      <th>mean_train_score</th>\n",
       "      <th>std_train_score</th>\n",
       "    </tr>\n",
       "  </thead>\n",
       "  <tbody>\n",
       "    <tr>\n",
       "      <th>0</th>\n",
       "      <td>121.766308</td>\n",
       "      <td>2.362836</td>\n",
       "      <td>16.457411</td>\n",
       "      <td>0.176950</td>\n",
       "      <td>1</td>\n",
       "      <td>0.01</td>\n",
       "      <td>{'C': 1, 'gamma': 0.01}</td>\n",
       "      <td>0.774479</td>\n",
       "      <td>0.753646</td>\n",
       "      <td>0.744792</td>\n",
       "      <td>...</td>\n",
       "      <td>0.753125</td>\n",
       "      <td>0.011794</td>\n",
       "      <td>12</td>\n",
       "      <td>0.999609</td>\n",
       "      <td>0.999740</td>\n",
       "      <td>0.999740</td>\n",
       "      <td>0.999740</td>\n",
       "      <td>0.999870</td>\n",
       "      <td>0.999740</td>\n",
       "      <td>0.000082</td>\n",
       "    </tr>\n",
       "    <tr>\n",
       "      <th>1</th>\n",
       "      <td>28.594793</td>\n",
       "      <td>0.350212</td>\n",
       "      <td>9.216278</td>\n",
       "      <td>0.097729</td>\n",
       "      <td>1</td>\n",
       "      <td>0.001</td>\n",
       "      <td>{'C': 1, 'gamma': 0.001}</td>\n",
       "      <td>0.932292</td>\n",
       "      <td>0.931250</td>\n",
       "      <td>0.932292</td>\n",
       "      <td>...</td>\n",
       "      <td>0.932396</td>\n",
       "      <td>0.004172</td>\n",
       "      <td>4</td>\n",
       "      <td>0.975000</td>\n",
       "      <td>0.975651</td>\n",
       "      <td>0.974740</td>\n",
       "      <td>0.975260</td>\n",
       "      <td>0.975391</td>\n",
       "      <td>0.975208</td>\n",
       "      <td>0.000315</td>\n",
       "    </tr>\n",
       "    <tr>\n",
       "      <th>2</th>\n",
       "      <td>41.896903</td>\n",
       "      <td>0.774344</td>\n",
       "      <td>12.737310</td>\n",
       "      <td>0.026300</td>\n",
       "      <td>1</td>\n",
       "      <td>0.0001</td>\n",
       "      <td>{'C': 1, 'gamma': 0.0001}</td>\n",
       "      <td>0.906250</td>\n",
       "      <td>0.903646</td>\n",
       "      <td>0.906771</td>\n",
       "      <td>...</td>\n",
       "      <td>0.907396</td>\n",
       "      <td>0.003080</td>\n",
       "      <td>8</td>\n",
       "      <td>0.920312</td>\n",
       "      <td>0.916797</td>\n",
       "      <td>0.921224</td>\n",
       "      <td>0.918880</td>\n",
       "      <td>0.919271</td>\n",
       "      <td>0.919297</td>\n",
       "      <td>0.001495</td>\n",
       "    </tr>\n",
       "    <tr>\n",
       "      <th>3</th>\n",
       "      <td>124.180518</td>\n",
       "      <td>1.060081</td>\n",
       "      <td>16.536605</td>\n",
       "      <td>0.104638</td>\n",
       "      <td>10</td>\n",
       "      <td>0.01</td>\n",
       "      <td>{'C': 10, 'gamma': 0.01}</td>\n",
       "      <td>0.786979</td>\n",
       "      <td>0.772917</td>\n",
       "      <td>0.766146</td>\n",
       "      <td>...</td>\n",
       "      <td>0.770729</td>\n",
       "      <td>0.010160</td>\n",
       "      <td>9</td>\n",
       "      <td>1.000000</td>\n",
       "      <td>1.000000</td>\n",
       "      <td>1.000000</td>\n",
       "      <td>1.000000</td>\n",
       "      <td>1.000000</td>\n",
       "      <td>1.000000</td>\n",
       "      <td>0.000000</td>\n",
       "    </tr>\n",
       "    <tr>\n",
       "      <th>4</th>\n",
       "      <td>24.608334</td>\n",
       "      <td>0.287328</td>\n",
       "      <td>8.309137</td>\n",
       "      <td>0.081979</td>\n",
       "      <td>10</td>\n",
       "      <td>0.001</td>\n",
       "      <td>{'C': 10, 'gamma': 0.001}</td>\n",
       "      <td>0.945312</td>\n",
       "      <td>0.943229</td>\n",
       "      <td>0.943229</td>\n",
       "      <td>...</td>\n",
       "      <td>0.944063</td>\n",
       "      <td>0.005002</td>\n",
       "      <td>1</td>\n",
       "      <td>0.998958</td>\n",
       "      <td>0.999349</td>\n",
       "      <td>0.998828</td>\n",
       "      <td>0.998958</td>\n",
       "      <td>0.999219</td>\n",
       "      <td>0.999062</td>\n",
       "      <td>0.000191</td>\n",
       "    </tr>\n",
       "    <tr>\n",
       "      <th>5</th>\n",
       "      <td>18.980503</td>\n",
       "      <td>0.212262</td>\n",
       "      <td>7.696146</td>\n",
       "      <td>0.048041</td>\n",
       "      <td>10</td>\n",
       "      <td>0.0001</td>\n",
       "      <td>{'C': 10, 'gamma': 0.0001}</td>\n",
       "      <td>0.925000</td>\n",
       "      <td>0.923438</td>\n",
       "      <td>0.926042</td>\n",
       "      <td>...</td>\n",
       "      <td>0.926979</td>\n",
       "      <td>0.006245</td>\n",
       "      <td>6</td>\n",
       "      <td>0.960677</td>\n",
       "      <td>0.960547</td>\n",
       "      <td>0.959375</td>\n",
       "      <td>0.962240</td>\n",
       "      <td>0.961458</td>\n",
       "      <td>0.960859</td>\n",
       "      <td>0.000959</td>\n",
       "    </tr>\n",
       "    <tr>\n",
       "      <th>6</th>\n",
       "      <td>125.363044</td>\n",
       "      <td>1.453718</td>\n",
       "      <td>16.516605</td>\n",
       "      <td>0.124751</td>\n",
       "      <td>100</td>\n",
       "      <td>0.01</td>\n",
       "      <td>{'C': 100, 'gamma': 0.01}</td>\n",
       "      <td>0.786979</td>\n",
       "      <td>0.772917</td>\n",
       "      <td>0.766146</td>\n",
       "      <td>...</td>\n",
       "      <td>0.770729</td>\n",
       "      <td>0.010160</td>\n",
       "      <td>9</td>\n",
       "      <td>1.000000</td>\n",
       "      <td>1.000000</td>\n",
       "      <td>1.000000</td>\n",
       "      <td>1.000000</td>\n",
       "      <td>1.000000</td>\n",
       "      <td>1.000000</td>\n",
       "      <td>0.000000</td>\n",
       "    </tr>\n",
       "    <tr>\n",
       "      <th>7</th>\n",
       "      <td>24.249794</td>\n",
       "      <td>0.138175</td>\n",
       "      <td>8.277536</td>\n",
       "      <td>0.065603</td>\n",
       "      <td>100</td>\n",
       "      <td>0.001</td>\n",
       "      <td>{'C': 100, 'gamma': 0.001}</td>\n",
       "      <td>0.944792</td>\n",
       "      <td>0.944271</td>\n",
       "      <td>0.942187</td>\n",
       "      <td>...</td>\n",
       "      <td>0.943854</td>\n",
       "      <td>0.004857</td>\n",
       "      <td>2</td>\n",
       "      <td>1.000000</td>\n",
       "      <td>1.000000</td>\n",
       "      <td>1.000000</td>\n",
       "      <td>1.000000</td>\n",
       "      <td>1.000000</td>\n",
       "      <td>1.000000</td>\n",
       "      <td>0.000000</td>\n",
       "    </tr>\n",
       "    <tr>\n",
       "      <th>8</th>\n",
       "      <td>14.588203</td>\n",
       "      <td>0.398590</td>\n",
       "      <td>6.258735</td>\n",
       "      <td>0.101117</td>\n",
       "      <td>100</td>\n",
       "      <td>0.0001</td>\n",
       "      <td>{'C': 100, 'gamma': 0.0001}</td>\n",
       "      <td>0.930729</td>\n",
       "      <td>0.929167</td>\n",
       "      <td>0.926562</td>\n",
       "      <td>...</td>\n",
       "      <td>0.929479</td>\n",
       "      <td>0.002150</td>\n",
       "      <td>5</td>\n",
       "      <td>0.994010</td>\n",
       "      <td>0.994792</td>\n",
       "      <td>0.993490</td>\n",
       "      <td>0.994141</td>\n",
       "      <td>0.992839</td>\n",
       "      <td>0.993854</td>\n",
       "      <td>0.000656</td>\n",
       "    </tr>\n",
       "    <tr>\n",
       "      <th>9</th>\n",
       "      <td>121.687888</td>\n",
       "      <td>0.906344</td>\n",
       "      <td>16.377435</td>\n",
       "      <td>0.063579</td>\n",
       "      <td>1000</td>\n",
       "      <td>0.01</td>\n",
       "      <td>{'C': 1000, 'gamma': 0.01}</td>\n",
       "      <td>0.786979</td>\n",
       "      <td>0.772917</td>\n",
       "      <td>0.766146</td>\n",
       "      <td>...</td>\n",
       "      <td>0.770729</td>\n",
       "      <td>0.010160</td>\n",
       "      <td>9</td>\n",
       "      <td>1.000000</td>\n",
       "      <td>1.000000</td>\n",
       "      <td>1.000000</td>\n",
       "      <td>1.000000</td>\n",
       "      <td>1.000000</td>\n",
       "      <td>1.000000</td>\n",
       "      <td>0.000000</td>\n",
       "    </tr>\n",
       "    <tr>\n",
       "      <th>10</th>\n",
       "      <td>24.258339</td>\n",
       "      <td>0.717552</td>\n",
       "      <td>8.263953</td>\n",
       "      <td>0.086051</td>\n",
       "      <td>1000</td>\n",
       "      <td>0.001</td>\n",
       "      <td>{'C': 1000, 'gamma': 0.001}</td>\n",
       "      <td>0.944792</td>\n",
       "      <td>0.944271</td>\n",
       "      <td>0.942187</td>\n",
       "      <td>...</td>\n",
       "      <td>0.943854</td>\n",
       "      <td>0.004857</td>\n",
       "      <td>2</td>\n",
       "      <td>1.000000</td>\n",
       "      <td>1.000000</td>\n",
       "      <td>1.000000</td>\n",
       "      <td>1.000000</td>\n",
       "      <td>1.000000</td>\n",
       "      <td>1.000000</td>\n",
       "      <td>0.000000</td>\n",
       "    </tr>\n",
       "    <tr>\n",
       "      <th>11</th>\n",
       "      <td>14.178751</td>\n",
       "      <td>0.362117</td>\n",
       "      <td>6.211258</td>\n",
       "      <td>0.173800</td>\n",
       "      <td>1000</td>\n",
       "      <td>0.0001</td>\n",
       "      <td>{'C': 1000, 'gamma': 0.0001}</td>\n",
       "      <td>0.928646</td>\n",
       "      <td>0.925000</td>\n",
       "      <td>0.922917</td>\n",
       "      <td>...</td>\n",
       "      <td>0.924687</td>\n",
       "      <td>0.002668</td>\n",
       "      <td>7</td>\n",
       "      <td>1.000000</td>\n",
       "      <td>1.000000</td>\n",
       "      <td>1.000000</td>\n",
       "      <td>1.000000</td>\n",
       "      <td>1.000000</td>\n",
       "      <td>1.000000</td>\n",
       "      <td>0.000000</td>\n",
       "    </tr>\n",
       "  </tbody>\n",
       "</table>\n",
       "<p>12 rows × 22 columns</p>\n",
       "</div>"
      ],
      "text/plain": [
       "    mean_fit_time  std_fit_time  mean_score_time  std_score_time param_C  \\\n",
       "0      121.766308      2.362836        16.457411        0.176950       1   \n",
       "1       28.594793      0.350212         9.216278        0.097729       1   \n",
       "2       41.896903      0.774344        12.737310        0.026300       1   \n",
       "3      124.180518      1.060081        16.536605        0.104638      10   \n",
       "4       24.608334      0.287328         8.309137        0.081979      10   \n",
       "5       18.980503      0.212262         7.696146        0.048041      10   \n",
       "6      125.363044      1.453718        16.516605        0.124751     100   \n",
       "7       24.249794      0.138175         8.277536        0.065603     100   \n",
       "8       14.588203      0.398590         6.258735        0.101117     100   \n",
       "9      121.687888      0.906344        16.377435        0.063579    1000   \n",
       "10      24.258339      0.717552         8.263953        0.086051    1000   \n",
       "11      14.178751      0.362117         6.211258        0.173800    1000   \n",
       "\n",
       "   param_gamma                        params  split0_test_score  \\\n",
       "0         0.01       {'C': 1, 'gamma': 0.01}           0.774479   \n",
       "1        0.001      {'C': 1, 'gamma': 0.001}           0.932292   \n",
       "2       0.0001     {'C': 1, 'gamma': 0.0001}           0.906250   \n",
       "3         0.01      {'C': 10, 'gamma': 0.01}           0.786979   \n",
       "4        0.001     {'C': 10, 'gamma': 0.001}           0.945312   \n",
       "5       0.0001    {'C': 10, 'gamma': 0.0001}           0.925000   \n",
       "6         0.01     {'C': 100, 'gamma': 0.01}           0.786979   \n",
       "7        0.001    {'C': 100, 'gamma': 0.001}           0.944792   \n",
       "8       0.0001   {'C': 100, 'gamma': 0.0001}           0.930729   \n",
       "9         0.01    {'C': 1000, 'gamma': 0.01}           0.786979   \n",
       "10       0.001   {'C': 1000, 'gamma': 0.001}           0.944792   \n",
       "11      0.0001  {'C': 1000, 'gamma': 0.0001}           0.928646   \n",
       "\n",
       "    split1_test_score  split2_test_score  ...  mean_test_score  \\\n",
       "0            0.753646           0.744792  ...         0.753125   \n",
       "1            0.931250           0.932292  ...         0.932396   \n",
       "2            0.903646           0.906771  ...         0.907396   \n",
       "3            0.772917           0.766146  ...         0.770729   \n",
       "4            0.943229           0.943229  ...         0.944063   \n",
       "5            0.923438           0.926042  ...         0.926979   \n",
       "6            0.772917           0.766146  ...         0.770729   \n",
       "7            0.944271           0.942187  ...         0.943854   \n",
       "8            0.929167           0.926562  ...         0.929479   \n",
       "9            0.772917           0.766146  ...         0.770729   \n",
       "10           0.944271           0.942187  ...         0.943854   \n",
       "11           0.925000           0.922917  ...         0.924687   \n",
       "\n",
       "    std_test_score  rank_test_score  split0_train_score  split1_train_score  \\\n",
       "0         0.011794               12            0.999609            0.999740   \n",
       "1         0.004172                4            0.975000            0.975651   \n",
       "2         0.003080                8            0.920312            0.916797   \n",
       "3         0.010160                9            1.000000            1.000000   \n",
       "4         0.005002                1            0.998958            0.999349   \n",
       "5         0.006245                6            0.960677            0.960547   \n",
       "6         0.010160                9            1.000000            1.000000   \n",
       "7         0.004857                2            1.000000            1.000000   \n",
       "8         0.002150                5            0.994010            0.994792   \n",
       "9         0.010160                9            1.000000            1.000000   \n",
       "10        0.004857                2            1.000000            1.000000   \n",
       "11        0.002668                7            1.000000            1.000000   \n",
       "\n",
       "    split2_train_score  split3_train_score  split4_train_score  \\\n",
       "0             0.999740            0.999740            0.999870   \n",
       "1             0.974740            0.975260            0.975391   \n",
       "2             0.921224            0.918880            0.919271   \n",
       "3             1.000000            1.000000            1.000000   \n",
       "4             0.998828            0.998958            0.999219   \n",
       "5             0.959375            0.962240            0.961458   \n",
       "6             1.000000            1.000000            1.000000   \n",
       "7             1.000000            1.000000            1.000000   \n",
       "8             0.993490            0.994141            0.992839   \n",
       "9             1.000000            1.000000            1.000000   \n",
       "10            1.000000            1.000000            1.000000   \n",
       "11            1.000000            1.000000            1.000000   \n",
       "\n",
       "    mean_train_score  std_train_score  \n",
       "0           0.999740         0.000082  \n",
       "1           0.975208         0.000315  \n",
       "2           0.919297         0.001495  \n",
       "3           1.000000         0.000000  \n",
       "4           0.999062         0.000191  \n",
       "5           0.960859         0.000959  \n",
       "6           1.000000         0.000000  \n",
       "7           1.000000         0.000000  \n",
       "8           0.993854         0.000656  \n",
       "9           1.000000         0.000000  \n",
       "10          1.000000         0.000000  \n",
       "11          1.000000         0.000000  \n",
       "\n",
       "[12 rows x 22 columns]"
      ]
     },
     "execution_count": 51,
     "metadata": {},
     "output_type": "execute_result"
    }
   ],
   "source": [
    "cv_results = pd.DataFrame(model_cv.cv_results_)\n",
    "cv_results"
   ]
  },
  {
   "cell_type": "code",
   "execution_count": 53,
   "metadata": {},
   "outputs": [
    {
     "data": {
      "image/png": "[encoded data removed]",
      "text/plain": [
       "<Figure size 1152x432 with 3 Axes>"
      ]
     },
     "metadata": {
      "needs_background": "light"
     },
     "output_type": "display_data"
    }
   ],
   "source": [
    "\n",
    "#Plotting the graphs of the different hyperparameters\n",
    "\n",
    "import matplotlib.pyplot as plt\n",
    "cv_results['param_C'] = cv_results['param_C'].astype('int')\n",
    "# # plotting\n",
    "plt.figure(figsize=(16,6))\n",
    "# subplot 1/3\n",
    "plt.subplot(131)\n",
    "gamma_01 = cv_results[cv_results['param_gamma']==0.01]\n",
    "plt.plot(gamma_01[\"param_C\"], gamma_01[\"mean_test_score\"])\n",
    "plt.plot(gamma_01[\"param_C\"], gamma_01[\"mean_train_score\"])\n",
    "plt.xlabel('C')\n",
    "plt.ylabel('Accuracy')\n",
    "plt.title(\"Gamma=0.01\")\n",
    "plt.ylim([0.60, 1])\n",
    "plt.legend(['test accuracy', 'train accuracy'], loc='upper left')\n",
    "plt.xscale('log')\n",
    "# subplot 2/3\n",
    "plt.subplot(132)\n",
    "gamma_001 = cv_results[cv_results['param_gamma']==0.001]\n",
    "plt.plot(gamma_001[\"param_C\"], gamma_001[\"mean_test_score\"])\n",
    "plt.plot(gamma_001[\"param_C\"], gamma_001[\"mean_train_score\"])\n",
    "plt.xlabel('C')\n",
    "plt.ylabel('Accuracy')\n",
    "plt.title(\"Gamma=0.001\")\n",
    "plt.ylim([0.60, 1])\n",
    "plt.legend(['test accuracy', 'train accuracy'], loc='upper left')\n",
    "plt.xscale('log')\n",
    "# subplot 3/3\n",
    "plt.subplot(133)\n",
    "gamma_0001 = cv_results[cv_results['param_gamma']==0.0001]\n",
    "plt.plot(gamma_0001[\"param_C\"], gamma_0001[\"mean_test_score\"])\n",
    "plt.plot(gamma_0001[\"param_C\"], gamma_0001[\"mean_train_score\"])\n",
    "plt.xlabel('C')\n",
    "plt.ylabel('Accuracy')\n",
    "plt.title(\"Gamma=0.0001\")\n",
    "plt.ylim([0.60, 1])\n",
    "plt.legend(['test accuracy', 'train accuracy'], loc='upper left')\n",
    "plt.xscale('log')\n"
   ]
  },
  {
   "cell_type": "markdown",
   "metadata": {},
   "source": [
    "<h4> Best params, {'C': 10, 'gamma': 0.001} </h4>"
   ]
  },
  {
   "cell_type": "code",
   "execution_count": 54,
   "metadata": {},
   "outputs": [
    {
     "name": "stdout",
     "output_type": "stream",
     "text": [
      "{'C': 10, 'gamma': 0.001}\n"
     ]
    }
   ],
   "source": [
    "#Best score as is visble from the plot as well\n",
    "best_score = model_cv.best_score_\n",
    "best_hyperparams = model_cv.best_params_\n",
    "print(best_hyperparams)"
   ]
  },
  {
   "cell_type": "markdown",
   "metadata": {},
   "source": [
    "<b> Final Model with best params </b>"
   ]
  },
  {
   "cell_type": "code",
   "execution_count": 19,
   "metadata": {},
   "outputs": [
    {
     "name": "stdout",
     "output_type": "stream",
     "text": [
      "accuracy 0.9483333333333334 \n",
      "\n",
      "[[199   0   1   0   1   1   2   0   3   0]\n",
      " [  0 259   2   0   2   0   0   0   0   0]\n",
      " [  0   3 242   4   2   0   0   0   3   0]\n",
      " [  0   0   3 236   0   2   0   2   3   2]\n",
      " [  0   0   3   1 215   0   1   1   0   3]\n",
      " [  1   2   3   6   1 223   3   0   1   0]\n",
      " [  3   0   6   0   1   3 244   0   0   0]\n",
      " [  0   1   2   2   4   0   0 251   1   3]\n",
      " [  1   1   3   3   3   1   2   0 207   2]\n",
      " [  1   2   5   1   7   1   0   2   1 200]] \n",
      "\n"
     ]
    }
   ],
   "source": [
    "#Final Model with best parameters\n",
    "model = SVC(C=10, gamma=0.001, kernel=\"rbf\")\n",
    "model.fit(x_train, y_train)\n",
    "y_pred = model.predict(x_test)\n",
    "# metrics\n",
    "print(\"accuracy\", metrics.accuracy_score(y_test, y_pred), \"\\n\")\n",
    "print(metrics.confusion_matrix(y_test, y_pred), \"\\n\")\n"
   ]
  },
  {
   "cell_type": "markdown",
   "metadata": {},
   "source": [
    "<h3> Final accuracy is 94.8 percent and we only trained on 10 percent of the data <h3>"
   ]
  },
  {
   "cell_type": "code",
   "execution_count": null,
   "metadata": {},
   "outputs": [],
   "source": []
  }
 ],
 "metadata": {
  "kernelspec": {
   "display_name": "Python 3",
   "language": "python",
   "name": "python3"
  },
  "language_info": {
   "codemirror_mode": {
    "name": "ipython",
    "version": 3
   },
   "file_extension": ".py",
   "mimetype": "text/x-python",
   "name": "python",
   "nbconvert_exporter": "python",
   "pygments_lexer": "ipython3",
   "version": "3.6.1"
  }
 },
 "nbformat": 4,
 "nbformat_minor": 4
}
