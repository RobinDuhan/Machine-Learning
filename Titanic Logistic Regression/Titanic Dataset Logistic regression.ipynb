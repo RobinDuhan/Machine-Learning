{
 "cells": [
  {
   "cell_type": "markdown",
   "metadata": {
    "papermill": {
     "duration": 0.030054,
     "end_time": "2020-08-29T16:42:20.370707",
     "exception": false,
     "start_time": "2020-08-29T16:42:20.340653",
     "status": "completed"
    },
    "tags": []
   },
   "source": [
    "<h2>CASE STUDY 2<br>\n",
    "Robin Duhan<br>\n",
    "18BCS6150</h2>"
   ]
  },
  {
   "cell_type": "markdown",
   "metadata": {
    "papermill": {
     "duration": 0.015573,
     "end_time": "2020-08-29T16:42:20.403392",
     "exception": false,
     "start_time": "2020-08-29T16:42:20.387819",
     "status": "completed"
    },
    "tags": []
   },
   "source": [
    "**Importing the libraries**"
   ]
  },
  {
   "cell_type": "code",
   "execution_count": 1,
   "metadata": {
    "execution": {
     "iopub.execute_input": "2020-08-29T16:42:20.439886Z",
     "iopub.status.busy": "2020-08-29T16:42:20.438763Z",
     "iopub.status.idle": "2020-08-29T16:42:20.448176Z",
     "shell.execute_reply": "2020-08-29T16:42:20.448982Z"
    },
    "papermill": {
     "duration": 0.029917,
     "end_time": "2020-08-29T16:42:20.449188",
     "exception": false,
     "start_time": "2020-08-29T16:42:20.419271",
     "status": "completed"
    },
    "tags": []
   },
   "outputs": [
    {
     "name": "stdout",
     "output_type": "stream",
     "text": [
      "/kaggle/input/titanic/gender_submission.csv\n",
      "/kaggle/input/titanic/test.csv\n",
      "/kaggle/input/titanic/train.csv\n"
     ]
    }
   ],
   "source": [
    "import numpy as np # linear algebra\n",
    "import pandas as pd # data processing, CSV file I/O (e.g. pd.read_csv)\n",
    "\n",
    "# Input data files are available in the read-only \"../input/\" directory\n",
    "# For example, running this (by clicking run or pressing Shift+Enter) will list all files under the input directory\n",
    "\n",
    "import os\n",
    "for dirname, _, filenames in os.walk('/kaggle/input'):\n",
    "    for filename in filenames:\n",
    "        print(os.path.join(dirname, filename))\n",
    "\n",
    "# You can write up to 5GB to the current directory (/kaggle/working/) that gets preserved as output when you create a version using \"Save & Run All\" \n",
    "# You can also write temporary files to /kaggle/temp/, but they won't be saved outside of the current session"
   ]
  },
  {
   "cell_type": "code",
   "execution_count": 2,
   "metadata": {
    "execution": {
     "iopub.execute_input": "2020-08-29T16:42:20.484020Z",
     "iopub.status.busy": "2020-08-29T16:42:20.483327Z",
     "iopub.status.idle": "2020-08-29T16:42:21.781744Z",
     "shell.execute_reply": "2020-08-29T16:42:21.780978Z"
    },
    "papermill": {
     "duration": 1.316591,
     "end_time": "2020-08-29T16:42:21.781873",
     "exception": false,
     "start_time": "2020-08-29T16:42:20.465282",
     "status": "completed"
    },
    "tags": []
   },
   "outputs": [],
   "source": [
    "#Importing the needed libraries\n",
    "\n",
    "import numpy as np\n",
    "import pandas as pd\n",
    "import matplotlib.pyplot as plt\n",
    "import seaborn as sns"
   ]
  },
  {
   "cell_type": "markdown",
   "metadata": {
    "papermill": {
     "duration": 0.015316,
     "end_time": "2020-08-29T16:42:21.815221",
     "exception": false,
     "start_time": "2020-08-29T16:42:21.799905",
     "status": "completed"
    },
    "tags": []
   },
   "source": [
    "<h4> Looking at the data and Preprocesing it </h4>"
   ]
  },
  {
   "cell_type": "code",
   "execution_count": 3,
   "metadata": {
    "execution": {
     "iopub.execute_input": "2020-08-29T16:42:21.857347Z",
     "iopub.status.busy": "2020-08-29T16:42:21.856285Z",
     "iopub.status.idle": "2020-08-29T16:42:21.873351Z",
     "shell.execute_reply": "2020-08-29T16:42:21.873958Z"
    },
    "papermill": {
     "duration": 0.042619,
     "end_time": "2020-08-29T16:42:21.874115",
     "exception": false,
     "start_time": "2020-08-29T16:42:21.831496",
     "status": "completed"
    },
    "tags": []
   },
   "outputs": [],
   "source": [
    "#Loading the data\n",
    "data = pd.read_csv(\"/kaggle/input/titanic/train.csv\")"
   ]
  },
  {
   "cell_type": "code",
   "execution_count": 4,
   "metadata": {
    "execution": {
     "iopub.execute_input": "2020-08-29T16:42:21.909754Z",
     "iopub.status.busy": "2020-08-29T16:42:21.909079Z",
     "iopub.status.idle": "2020-08-29T16:42:21.946460Z",
     "shell.execute_reply": "2020-08-29T16:42:21.945842Z"
    },
    "papermill": {
     "duration": 0.056551,
     "end_time": "2020-08-29T16:42:21.946592",
     "exception": false,
     "start_time": "2020-08-29T16:42:21.890041",
     "status": "completed"
    },
    "tags": []
   },
   "outputs": [
    {
     "data": {
      "text/html": [
       "<div>\n",
       "<style scoped>\n",
       "    .dataframe tbody tr th:only-of-type {\n",
       "        vertical-align: middle;\n",
       "    }\n",
       "\n",
       "    .dataframe tbody tr th {\n",
       "        vertical-align: top;\n",
       "    }\n",
       "\n",
       "    .dataframe thead th {\n",
       "        text-align: right;\n",
       "    }\n",
       "</style>\n",
       "<table border=\"1\" class=\"dataframe\">\n",
       "  <thead>\n",
       "    <tr style=\"text-align: right;\">\n",
       "      <th></th>\n",
       "      <th>PassengerId</th>\n",
       "      <th>Survived</th>\n",
       "      <th>Pclass</th>\n",
       "      <th>Name</th>\n",
       "      <th>Sex</th>\n",
       "      <th>Age</th>\n",
       "      <th>SibSp</th>\n",
       "      <th>Parch</th>\n",
       "      <th>Ticket</th>\n",
       "      <th>Fare</th>\n",
       "      <th>Cabin</th>\n",
       "      <th>Embarked</th>\n",
       "    </tr>\n",
       "  </thead>\n",
       "  <tbody>\n",
       "    <tr>\n",
       "      <th>0</th>\n",
       "      <td>1</td>\n",
       "      <td>0</td>\n",
       "      <td>3</td>\n",
       "      <td>Braund, Mr. Owen Harris</td>\n",
       "      <td>male</td>\n",
       "      <td>22.0</td>\n",
       "      <td>1</td>\n",
       "      <td>0</td>\n",
       "      <td>A/5 21171</td>\n",
       "      <td>7.2500</td>\n",
       "      <td>NaN</td>\n",
       "      <td>S</td>\n",
       "    </tr>\n",
       "    <tr>\n",
       "      <th>1</th>\n",
       "      <td>2</td>\n",
       "      <td>1</td>\n",
       "      <td>1</td>\n",
       "      <td>Cumings, Mrs. John Bradley (Florence Briggs Th...</td>\n",
       "      <td>female</td>\n",
       "      <td>38.0</td>\n",
       "      <td>1</td>\n",
       "      <td>0</td>\n",
       "      <td>PC 17599</td>\n",
       "      <td>71.2833</td>\n",
       "      <td>C85</td>\n",
       "      <td>C</td>\n",
       "    </tr>\n",
       "    <tr>\n",
       "      <th>2</th>\n",
       "      <td>3</td>\n",
       "      <td>1</td>\n",
       "      <td>3</td>\n",
       "      <td>Heikkinen, Miss. Laina</td>\n",
       "      <td>female</td>\n",
       "      <td>26.0</td>\n",
       "      <td>0</td>\n",
       "      <td>0</td>\n",
       "      <td>STON/O2. 3101282</td>\n",
       "      <td>7.9250</td>\n",
       "      <td>NaN</td>\n",
       "      <td>S</td>\n",
       "    </tr>\n",
       "    <tr>\n",
       "      <th>3</th>\n",
       "      <td>4</td>\n",
       "      <td>1</td>\n",
       "      <td>1</td>\n",
       "      <td>Futrelle, Mrs. Jacques Heath (Lily May Peel)</td>\n",
       "      <td>female</td>\n",
       "      <td>35.0</td>\n",
       "      <td>1</td>\n",
       "      <td>0</td>\n",
       "      <td>113803</td>\n",
       "      <td>53.1000</td>\n",
       "      <td>C123</td>\n",
       "      <td>S</td>\n",
       "    </tr>\n",
       "    <tr>\n",
       "      <th>4</th>\n",
       "      <td>5</td>\n",
       "      <td>0</td>\n",
       "      <td>3</td>\n",
       "      <td>Allen, Mr. William Henry</td>\n",
       "      <td>male</td>\n",
       "      <td>35.0</td>\n",
       "      <td>0</td>\n",
       "      <td>0</td>\n",
       "      <td>373450</td>\n",
       "      <td>8.0500</td>\n",
       "      <td>NaN</td>\n",
       "      <td>S</td>\n",
       "    </tr>\n",
       "  </tbody>\n",
       "</table>\n",
       "</div>"
      ],
      "text/plain": [
       "   PassengerId  Survived  Pclass  \\\n",
       "0            1         0       3   \n",
       "1            2         1       1   \n",
       "2            3         1       3   \n",
       "3            4         1       1   \n",
       "4            5         0       3   \n",
       "\n",
       "                                                Name     Sex   Age  SibSp  \\\n",
       "0                            Braund, Mr. Owen Harris    male  22.0      1   \n",
       "1  Cumings, Mrs. John Bradley (Florence Briggs Th...  female  38.0      1   \n",
       "2                             Heikkinen, Miss. Laina  female  26.0      0   \n",
       "3       Futrelle, Mrs. Jacques Heath (Lily May Peel)  female  35.0      1   \n",
       "4                           Allen, Mr. William Henry    male  35.0      0   \n",
       "\n",
       "   Parch            Ticket     Fare Cabin Embarked  \n",
       "0      0         A/5 21171   7.2500   NaN        S  \n",
       "1      0          PC 17599  71.2833   C85        C  \n",
       "2      0  STON/O2. 3101282   7.9250   NaN        S  \n",
       "3      0            113803  53.1000  C123        S  \n",
       "4      0            373450   8.0500   NaN        S  "
      ]
     },
     "execution_count": 4,
     "metadata": {},
     "output_type": "execute_result"
    }
   ],
   "source": [
    "#Looking at the data\n",
    "data.head()"
   ]
  },
  {
   "cell_type": "code",
   "execution_count": 5,
   "metadata": {
    "execution": {
     "iopub.execute_input": "2020-08-29T16:42:21.986609Z",
     "iopub.status.busy": "2020-08-29T16:42:21.985545Z",
     "iopub.status.idle": "2020-08-29T16:42:21.989526Z",
     "shell.execute_reply": "2020-08-29T16:42:21.989993Z"
    },
    "papermill": {
     "duration": 0.026361,
     "end_time": "2020-08-29T16:42:21.990132",
     "exception": false,
     "start_time": "2020-08-29T16:42:21.963771",
     "status": "completed"
    },
    "tags": []
   },
   "outputs": [
    {
     "data": {
      "text/plain": [
       "(891, 12)"
      ]
     },
     "execution_count": 5,
     "metadata": {},
     "output_type": "execute_result"
    }
   ],
   "source": [
    "#Shape\n",
    "data.shape"
   ]
  },
  {
   "cell_type": "code",
   "execution_count": 6,
   "metadata": {
    "execution": {
     "iopub.execute_input": "2020-08-29T16:42:22.026605Z",
     "iopub.status.busy": "2020-08-29T16:42:22.025634Z",
     "iopub.status.idle": "2020-08-29T16:42:22.036629Z",
     "shell.execute_reply": "2020-08-29T16:42:22.037170Z"
    },
    "papermill": {
     "duration": 0.030995,
     "end_time": "2020-08-29T16:42:22.037313",
     "exception": false,
     "start_time": "2020-08-29T16:42:22.006318",
     "status": "completed"
    },
    "tags": []
   },
   "outputs": [],
   "source": [
    "#No need of names, all are unique, so dropping it\n",
    "data.drop(['Name'], axis = 1, inplace = True)"
   ]
  },
  {
   "cell_type": "code",
   "execution_count": 7,
   "metadata": {
    "execution": {
     "iopub.execute_input": "2020-08-29T16:42:22.074831Z",
     "iopub.status.busy": "2020-08-29T16:42:22.073826Z",
     "iopub.status.idle": "2020-08-29T16:42:22.081748Z",
     "shell.execute_reply": "2020-08-29T16:42:22.082361Z"
    },
    "papermill": {
     "duration": 0.028733,
     "end_time": "2020-08-29T16:42:22.082538",
     "exception": false,
     "start_time": "2020-08-29T16:42:22.053805",
     "status": "completed"
    },
    "tags": []
   },
   "outputs": [],
   "source": [
    "#Lets use a binary map for the sex column\n",
    "\n",
    "def binary_map(x):\n",
    "    if(x == \"male\"):\n",
    "        x = 0\n",
    "        return x\n",
    "    elif(x == \"female\"):\n",
    "        x = 1\n",
    "        return x\n",
    "\n",
    "data[\"Sex\"] = data[\"Sex\"].apply(binary_map)"
   ]
  },
  {
   "cell_type": "code",
   "execution_count": 8,
   "metadata": {
    "execution": {
     "iopub.execute_input": "2020-08-29T16:42:22.119284Z",
     "iopub.status.busy": "2020-08-29T16:42:22.118294Z",
     "iopub.status.idle": "2020-08-29T16:42:22.125602Z",
     "shell.execute_reply": "2020-08-29T16:42:22.125022Z"
    },
    "papermill": {
     "duration": 0.026736,
     "end_time": "2020-08-29T16:42:22.125721",
     "exception": false,
     "start_time": "2020-08-29T16:42:22.098985",
     "status": "completed"
    },
    "tags": []
   },
   "outputs": [
    {
     "data": {
      "text/plain": [
       "681"
      ]
     },
     "execution_count": 8,
     "metadata": {},
     "output_type": "execute_result"
    }
   ],
   "source": [
    "#Unique tickets\n",
    "\n",
    "len(data[\"Ticket\"].unique())"
   ]
  },
  {
   "cell_type": "code",
   "execution_count": 9,
   "metadata": {
    "execution": {
     "iopub.execute_input": "2020-08-29T16:42:22.162695Z",
     "iopub.status.busy": "2020-08-29T16:42:22.161986Z",
     "iopub.status.idle": "2020-08-29T16:42:22.170058Z",
     "shell.execute_reply": "2020-08-29T16:42:22.169371Z"
    },
    "papermill": {
     "duration": 0.027868,
     "end_time": "2020-08-29T16:42:22.170172",
     "exception": false,
     "start_time": "2020-08-29T16:42:22.142304",
     "status": "completed"
    },
    "tags": []
   },
   "outputs": [],
   "source": [
    "# For now I am dropping this column because it seems redundant\n",
    "data.drop([\"Ticket\"], axis = 1, inplace = True)"
   ]
  },
  {
   "cell_type": "code",
   "execution_count": 10,
   "metadata": {
    "execution": {
     "iopub.execute_input": "2020-08-29T16:42:22.210902Z",
     "iopub.status.busy": "2020-08-29T16:42:22.210031Z",
     "iopub.status.idle": "2020-08-29T16:42:22.214793Z",
     "shell.execute_reply": "2020-08-29T16:42:22.214159Z"
    },
    "papermill": {
     "duration": 0.027471,
     "end_time": "2020-08-29T16:42:22.214935",
     "exception": false,
     "start_time": "2020-08-29T16:42:22.187464",
     "status": "completed"
    },
    "tags": []
   },
   "outputs": [
    {
     "data": {
      "text/plain": [
       "array([nan, 'C85', 'C123', 'E46', 'G6', 'C103', 'D56', 'A6',\n",
       "       'C23 C25 C27', 'B78', 'D33', 'B30', 'C52', 'B28', 'C83', 'F33',\n",
       "       'F G73', 'E31', 'A5', 'D10 D12', 'D26', 'C110', 'B58 B60', 'E101',\n",
       "       'F E69', 'D47', 'B86', 'F2', 'C2', 'E33', 'B19', 'A7', 'C49', 'F4',\n",
       "       'A32', 'B4', 'B80', 'A31', 'D36', 'D15', 'C93', 'C78', 'D35',\n",
       "       'C87', 'B77', 'E67', 'B94', 'C125', 'C99', 'C118', 'D7', 'A19',\n",
       "       'B49', 'D', 'C22 C26', 'C106', 'C65', 'E36', 'C54',\n",
       "       'B57 B59 B63 B66', 'C7', 'E34', 'C32', 'B18', 'C124', 'C91', 'E40',\n",
       "       'T', 'C128', 'D37', 'B35', 'E50', 'C82', 'B96 B98', 'E10', 'E44',\n",
       "       'A34', 'C104', 'C111', 'C92', 'E38', 'D21', 'E12', 'E63', 'A14',\n",
       "       'B37', 'C30', 'D20', 'B79', 'E25', 'D46', 'B73', 'C95', 'B38',\n",
       "       'B39', 'B22', 'C86', 'C70', 'A16', 'C101', 'C68', 'A10', 'E68',\n",
       "       'B41', 'A20', 'D19', 'D50', 'D9', 'A23', 'B50', 'A26', 'D48',\n",
       "       'E58', 'C126', 'B71', 'B51 B53 B55', 'D49', 'B5', 'B20', 'F G63',\n",
       "       'C62 C64', 'E24', 'C90', 'C45', 'E8', 'B101', 'D45', 'C46', 'D30',\n",
       "       'E121', 'D11', 'E77', 'F38', 'B3', 'D6', 'B82 B84', 'D17', 'A36',\n",
       "       'B102', 'B69', 'E49', 'C47', 'D28', 'E17', 'A24', 'C50', 'B42',\n",
       "       'C148'], dtype=object)"
      ]
     },
     "execution_count": 10,
     "metadata": {},
     "output_type": "execute_result"
    }
   ],
   "source": [
    "#Unique values of Cabin\n",
    "data[\"Cabin\"].unique()"
   ]
  },
  {
   "cell_type": "code",
   "execution_count": 11,
   "metadata": {
    "execution": {
     "iopub.execute_input": "2020-08-29T16:42:22.260000Z",
     "iopub.status.busy": "2020-08-29T16:42:22.259253Z",
     "iopub.status.idle": "2020-08-29T16:42:22.263315Z",
     "shell.execute_reply": "2020-08-29T16:42:22.262521Z"
    },
    "papermill": {
     "duration": 0.030739,
     "end_time": "2020-08-29T16:42:22.263486",
     "exception": false,
     "start_time": "2020-08-29T16:42:22.232747",
     "status": "completed"
    },
    "tags": []
   },
   "outputs": [],
   "source": [
    "# There are a lot of cabin id's so I am going to make nans as 0 and others as 1 as in if they had a cabin or not\n",
    "# It could potenitally say something about their survival\n",
    "# We don't need ids so removing that\n",
    "\n",
    "\n",
    "def map_for_cabin(x):\n",
    "    if x != 0:\n",
    "        x = 1\n",
    "        return x\n",
    "    else:\n",
    "        return 0\n",
    "    \n",
    "\n",
    "data[\"Cabin\"] = data[\"Cabin\"].apply(map_for_cabin)"
   ]
  },
  {
   "cell_type": "code",
   "execution_count": 12,
   "metadata": {
    "execution": {
     "iopub.execute_input": "2020-08-29T16:42:22.310763Z",
     "iopub.status.busy": "2020-08-29T16:42:22.309851Z",
     "iopub.status.idle": "2020-08-29T16:42:22.314701Z",
     "shell.execute_reply": "2020-08-29T16:42:22.314120Z"
    },
    "papermill": {
     "duration": 0.029181,
     "end_time": "2020-08-29T16:42:22.314824",
     "exception": false,
     "start_time": "2020-08-29T16:42:22.285643",
     "status": "completed"
    },
    "tags": []
   },
   "outputs": [
    {
     "data": {
      "text/plain": [
       "0    1\n",
       "1    1\n",
       "2    1\n",
       "3    1\n",
       "4    1\n",
       "Name: Cabin, dtype: int64"
      ]
     },
     "execution_count": 12,
     "metadata": {},
     "output_type": "execute_result"
    }
   ],
   "source": [
    "data[\"Cabin\"].head()"
   ]
  },
  {
   "cell_type": "code",
   "execution_count": 13,
   "metadata": {
    "execution": {
     "iopub.execute_input": "2020-08-29T16:42:22.360782Z",
     "iopub.status.busy": "2020-08-29T16:42:22.359813Z",
     "iopub.status.idle": "2020-08-29T16:42:22.364388Z",
     "shell.execute_reply": "2020-08-29T16:42:22.363783Z"
    },
    "papermill": {
     "duration": 0.031655,
     "end_time": "2020-08-29T16:42:22.364527",
     "exception": false,
     "start_time": "2020-08-29T16:42:22.332872",
     "status": "completed"
    },
    "tags": []
   },
   "outputs": [
    {
     "name": "stdout",
     "output_type": "stream",
     "text": [
      "Unique values in Embarked column are: ['S' 'C' 'Q' nan]\n",
      "Nan values are:  2\n"
     ]
    }
   ],
   "source": [
    "#Unique values of Embarked\n",
    "print(\"Unique values in Embarked column are:\", data[\"Embarked\"].unique())\n",
    "print(\"Nan values are: \", data[\"Embarked\"].isnull().sum())\n",
    "\n",
    "#What does it mean to have nan values in this column? \n",
    "#This column represents what port you got in from\n",
    "# So nan must be some data error\n",
    "# As this can be important, I will be encoding it into 4 classes, one class for nan"
   ]
  },
  {
   "cell_type": "code",
   "execution_count": 14,
   "metadata": {
    "execution": {
     "iopub.execute_input": "2020-08-29T16:42:22.403282Z",
     "iopub.status.busy": "2020-08-29T16:42:22.402631Z",
     "iopub.status.idle": "2020-08-29T16:42:22.408690Z",
     "shell.execute_reply": "2020-08-29T16:42:22.409234Z"
    },
    "papermill": {
     "duration": 0.026352,
     "end_time": "2020-08-29T16:42:22.409368",
     "exception": false,
     "start_time": "2020-08-29T16:42:22.383016",
     "status": "completed"
    },
    "tags": []
   },
   "outputs": [],
   "source": [
    "# Adding another class N for no port\n",
    "data[\"Embarked\"].fillna(\"N\", inplace = True)"
   ]
  },
  {
   "cell_type": "code",
   "execution_count": 15,
   "metadata": {
    "execution": {
     "iopub.execute_input": "2020-08-29T16:42:22.453686Z",
     "iopub.status.busy": "2020-08-29T16:42:22.452953Z",
     "iopub.status.idle": "2020-08-29T16:42:22.456305Z",
     "shell.execute_reply": "2020-08-29T16:42:22.456993Z"
    },
    "papermill": {
     "duration": 0.030924,
     "end_time": "2020-08-29T16:42:22.457135",
     "exception": false,
     "start_time": "2020-08-29T16:42:22.426211",
     "status": "completed"
    },
    "tags": []
   },
   "outputs": [],
   "source": [
    "Emb = pd.get_dummies(data['Embarked'])"
   ]
  },
  {
   "cell_type": "code",
   "execution_count": 16,
   "metadata": {
    "execution": {
     "iopub.execute_input": "2020-08-29T16:42:22.494626Z",
     "iopub.status.busy": "2020-08-29T16:42:22.493935Z",
     "iopub.status.idle": "2020-08-29T16:42:22.507526Z",
     "shell.execute_reply": "2020-08-29T16:42:22.508120Z"
    },
    "papermill": {
     "duration": 0.034172,
     "end_time": "2020-08-29T16:42:22.508259",
     "exception": false,
     "start_time": "2020-08-29T16:42:22.474087",
     "status": "completed"
    },
    "tags": []
   },
   "outputs": [
    {
     "data": {
      "text/html": [
       "<div>\n",
       "<style scoped>\n",
       "    .dataframe tbody tr th:only-of-type {\n",
       "        vertical-align: middle;\n",
       "    }\n",
       "\n",
       "    .dataframe tbody tr th {\n",
       "        vertical-align: top;\n",
       "    }\n",
       "\n",
       "    .dataframe thead th {\n",
       "        text-align: right;\n",
       "    }\n",
       "</style>\n",
       "<table border=\"1\" class=\"dataframe\">\n",
       "  <thead>\n",
       "    <tr style=\"text-align: right;\">\n",
       "      <th></th>\n",
       "      <th>C</th>\n",
       "      <th>Q</th>\n",
       "      <th>S</th>\n",
       "    </tr>\n",
       "  </thead>\n",
       "  <tbody>\n",
       "    <tr>\n",
       "      <th>0</th>\n",
       "      <td>0</td>\n",
       "      <td>0</td>\n",
       "      <td>1</td>\n",
       "    </tr>\n",
       "    <tr>\n",
       "      <th>1</th>\n",
       "      <td>1</td>\n",
       "      <td>0</td>\n",
       "      <td>0</td>\n",
       "    </tr>\n",
       "    <tr>\n",
       "      <th>2</th>\n",
       "      <td>0</td>\n",
       "      <td>0</td>\n",
       "      <td>1</td>\n",
       "    </tr>\n",
       "    <tr>\n",
       "      <th>3</th>\n",
       "      <td>0</td>\n",
       "      <td>0</td>\n",
       "      <td>1</td>\n",
       "    </tr>\n",
       "    <tr>\n",
       "      <th>4</th>\n",
       "      <td>0</td>\n",
       "      <td>0</td>\n",
       "      <td>1</td>\n",
       "    </tr>\n",
       "  </tbody>\n",
       "</table>\n",
       "</div>"
      ],
      "text/plain": [
       "   C  Q  S\n",
       "0  0  0  1\n",
       "1  1  0  0\n",
       "2  0  0  1\n",
       "3  0  0  1\n",
       "4  0  0  1"
      ]
     },
     "execution_count": 16,
     "metadata": {},
     "output_type": "execute_result"
    }
   ],
   "source": [
    "# To avoid the dummy trap, dropping N\n",
    "Emb.drop([\"N\"], axis = 1, inplace = True)\n",
    "Emb.head()"
   ]
  },
  {
   "cell_type": "code",
   "execution_count": 17,
   "metadata": {
    "execution": {
     "iopub.execute_input": "2020-08-29T16:42:22.553265Z",
     "iopub.status.busy": "2020-08-29T16:42:22.551712Z",
     "iopub.status.idle": "2020-08-29T16:42:22.557277Z",
     "shell.execute_reply": "2020-08-29T16:42:22.557890Z"
    },
    "papermill": {
     "duration": 0.03281,
     "end_time": "2020-08-29T16:42:22.558040",
     "exception": false,
     "start_time": "2020-08-29T16:42:22.525230",
     "status": "completed"
    },
    "tags": []
   },
   "outputs": [],
   "source": [
    "# Concatenating them together\n",
    "\n",
    "data = pd.concat([data, Emb], axis = 1)\n",
    "\n",
    "#No use of it afte creating dummy variables\n",
    "data.drop([\"Embarked\"], axis = 1, inplace = True)\n"
   ]
  },
  {
   "cell_type": "code",
   "execution_count": 18,
   "metadata": {
    "execution": {
     "iopub.execute_input": "2020-08-29T16:42:22.607847Z",
     "iopub.status.busy": "2020-08-29T16:42:22.606753Z",
     "iopub.status.idle": "2020-08-29T16:42:22.613232Z",
     "shell.execute_reply": "2020-08-29T16:42:22.612651Z"
    },
    "papermill": {
     "duration": 0.038259,
     "end_time": "2020-08-29T16:42:22.613356",
     "exception": false,
     "start_time": "2020-08-29T16:42:22.575097",
     "status": "completed"
    },
    "tags": []
   },
   "outputs": [
    {
     "data": {
      "text/html": [
       "<div>\n",
       "<style scoped>\n",
       "    .dataframe tbody tr th:only-of-type {\n",
       "        vertical-align: middle;\n",
       "    }\n",
       "\n",
       "    .dataframe tbody tr th {\n",
       "        vertical-align: top;\n",
       "    }\n",
       "\n",
       "    .dataframe thead th {\n",
       "        text-align: right;\n",
       "    }\n",
       "</style>\n",
       "<table border=\"1\" class=\"dataframe\">\n",
       "  <thead>\n",
       "    <tr style=\"text-align: right;\">\n",
       "      <th></th>\n",
       "      <th>PassengerId</th>\n",
       "      <th>Survived</th>\n",
       "      <th>Pclass</th>\n",
       "      <th>Sex</th>\n",
       "      <th>Age</th>\n",
       "      <th>SibSp</th>\n",
       "      <th>Parch</th>\n",
       "      <th>Fare</th>\n",
       "      <th>Cabin</th>\n",
       "      <th>C</th>\n",
       "      <th>Q</th>\n",
       "      <th>S</th>\n",
       "    </tr>\n",
       "  </thead>\n",
       "  <tbody>\n",
       "    <tr>\n",
       "      <th>0</th>\n",
       "      <td>1</td>\n",
       "      <td>0</td>\n",
       "      <td>3</td>\n",
       "      <td>0</td>\n",
       "      <td>22.0</td>\n",
       "      <td>1</td>\n",
       "      <td>0</td>\n",
       "      <td>7.2500</td>\n",
       "      <td>1</td>\n",
       "      <td>0</td>\n",
       "      <td>0</td>\n",
       "      <td>1</td>\n",
       "    </tr>\n",
       "    <tr>\n",
       "      <th>1</th>\n",
       "      <td>2</td>\n",
       "      <td>1</td>\n",
       "      <td>1</td>\n",
       "      <td>1</td>\n",
       "      <td>38.0</td>\n",
       "      <td>1</td>\n",
       "      <td>0</td>\n",
       "      <td>71.2833</td>\n",
       "      <td>1</td>\n",
       "      <td>1</td>\n",
       "      <td>0</td>\n",
       "      <td>0</td>\n",
       "    </tr>\n",
       "    <tr>\n",
       "      <th>2</th>\n",
       "      <td>3</td>\n",
       "      <td>1</td>\n",
       "      <td>3</td>\n",
       "      <td>1</td>\n",
       "      <td>26.0</td>\n",
       "      <td>0</td>\n",
       "      <td>0</td>\n",
       "      <td>7.9250</td>\n",
       "      <td>1</td>\n",
       "      <td>0</td>\n",
       "      <td>0</td>\n",
       "      <td>1</td>\n",
       "    </tr>\n",
       "    <tr>\n",
       "      <th>3</th>\n",
       "      <td>4</td>\n",
       "      <td>1</td>\n",
       "      <td>1</td>\n",
       "      <td>1</td>\n",
       "      <td>35.0</td>\n",
       "      <td>1</td>\n",
       "      <td>0</td>\n",
       "      <td>53.1000</td>\n",
       "      <td>1</td>\n",
       "      <td>0</td>\n",
       "      <td>0</td>\n",
       "      <td>1</td>\n",
       "    </tr>\n",
       "    <tr>\n",
       "      <th>4</th>\n",
       "      <td>5</td>\n",
       "      <td>0</td>\n",
       "      <td>3</td>\n",
       "      <td>0</td>\n",
       "      <td>35.0</td>\n",
       "      <td>0</td>\n",
       "      <td>0</td>\n",
       "      <td>8.0500</td>\n",
       "      <td>1</td>\n",
       "      <td>0</td>\n",
       "      <td>0</td>\n",
       "      <td>1</td>\n",
       "    </tr>\n",
       "  </tbody>\n",
       "</table>\n",
       "</div>"
      ],
      "text/plain": [
       "   PassengerId  Survived  Pclass  Sex   Age  SibSp  Parch     Fare  Cabin  C  \\\n",
       "0            1         0       3    0  22.0      1      0   7.2500      1  0   \n",
       "1            2         1       1    1  38.0      1      0  71.2833      1  1   \n",
       "2            3         1       3    1  26.0      0      0   7.9250      1  0   \n",
       "3            4         1       1    1  35.0      1      0  53.1000      1  0   \n",
       "4            5         0       3    0  35.0      0      0   8.0500      1  0   \n",
       "\n",
       "   Q  S  \n",
       "0  0  1  \n",
       "1  0  0  \n",
       "2  0  1  \n",
       "3  0  1  \n",
       "4  0  1  "
      ]
     },
     "execution_count": 18,
     "metadata": {},
     "output_type": "execute_result"
    }
   ],
   "source": [
    "data.head()"
   ]
  },
  {
   "cell_type": "code",
   "execution_count": 19,
   "metadata": {
    "execution": {
     "iopub.execute_input": "2020-08-29T16:42:22.654010Z",
     "iopub.status.busy": "2020-08-29T16:42:22.652961Z",
     "iopub.status.idle": "2020-08-29T16:42:22.660925Z",
     "shell.execute_reply": "2020-08-29T16:42:22.661465Z"
    },
    "papermill": {
     "duration": 0.030489,
     "end_time": "2020-08-29T16:42:22.661607",
     "exception": false,
     "start_time": "2020-08-29T16:42:22.631118",
     "status": "completed"
    },
    "tags": []
   },
   "outputs": [
    {
     "data": {
      "text/plain": [
       "PassengerId      0\n",
       "Survived         0\n",
       "Pclass           0\n",
       "Sex              0\n",
       "Age            177\n",
       "SibSp            0\n",
       "Parch            0\n",
       "Fare             0\n",
       "Cabin            0\n",
       "C                0\n",
       "Q                0\n",
       "S                0\n",
       "dtype: int64"
      ]
     },
     "execution_count": 19,
     "metadata": {},
     "output_type": "execute_result"
    }
   ],
   "source": [
    "data.isnull().sum()"
   ]
  },
  {
   "cell_type": "code",
   "execution_count": 20,
   "metadata": {
    "execution": {
     "iopub.execute_input": "2020-08-29T16:42:22.700325Z",
     "iopub.status.busy": "2020-08-29T16:42:22.699670Z",
     "iopub.status.idle": "2020-08-29T16:42:22.713565Z",
     "shell.execute_reply": "2020-08-29T16:42:22.712999Z"
    },
    "papermill": {
     "duration": 0.034791,
     "end_time": "2020-08-29T16:42:22.713685",
     "exception": false,
     "start_time": "2020-08-29T16:42:22.678894",
     "status": "completed"
    },
    "tags": []
   },
   "outputs": [],
   "source": [
    "#Filling the nan values with mean\n",
    "data.fillna(data.mean(), inplace = True)"
   ]
  },
  {
   "cell_type": "code",
   "execution_count": 21,
   "metadata": {
    "execution": {
     "iopub.execute_input": "2020-08-29T16:42:22.754586Z",
     "iopub.status.busy": "2020-08-29T16:42:22.753624Z",
     "iopub.status.idle": "2020-08-29T16:42:22.757026Z",
     "shell.execute_reply": "2020-08-29T16:42:22.756518Z"
    },
    "papermill": {
     "duration": 0.026153,
     "end_time": "2020-08-29T16:42:22.757133",
     "exception": false,
     "start_time": "2020-08-29T16:42:22.730980",
     "status": "completed"
    },
    "tags": []
   },
   "outputs": [],
   "source": [
    "#Dropping this beacuse its redundant\n",
    "data = data.drop([\"PassengerId\"], axis  =1)"
   ]
  },
  {
   "cell_type": "markdown",
   "metadata": {
    "papermill": {
     "duration": 0.017345,
     "end_time": "2020-08-29T16:42:22.791640",
     "exception": false,
     "start_time": "2020-08-29T16:42:22.774295",
     "status": "completed"
    },
    "tags": []
   },
   "source": [
    "<h3> Cleaning is done, Now splitting the Data </h3>"
   ]
  },
  {
   "cell_type": "code",
   "execution_count": 22,
   "metadata": {
    "execution": {
     "iopub.execute_input": "2020-08-29T16:42:22.832649Z",
     "iopub.status.busy": "2020-08-29T16:42:22.831817Z",
     "iopub.status.idle": "2020-08-29T16:42:22.990172Z",
     "shell.execute_reply": "2020-08-29T16:42:22.989430Z"
    },
    "papermill": {
     "duration": 0.180973,
     "end_time": "2020-08-29T16:42:22.990282",
     "exception": false,
     "start_time": "2020-08-29T16:42:22.809309",
     "status": "completed"
    },
    "tags": []
   },
   "outputs": [],
   "source": [
    "# Creating the training and validation set\n",
    "\n",
    "np.random.seed(0)\n",
    "\n",
    "from sklearn.model_selection import train_test_split\n",
    "\n",
    "data_train, data_test = train_test_split(data, train_size = 0.85, test_size = 0.15, random_state = 0 )"
   ]
  },
  {
   "cell_type": "code",
   "execution_count": 23,
   "metadata": {
    "execution": {
     "iopub.execute_input": "2020-08-29T16:42:23.031906Z",
     "iopub.status.busy": "2020-08-29T16:42:23.031029Z",
     "iopub.status.idle": "2020-08-29T16:42:23.034531Z",
     "shell.execute_reply": "2020-08-29T16:42:23.033993Z"
    },
    "papermill": {
     "duration": 0.026741,
     "end_time": "2020-08-29T16:42:23.034648",
     "exception": false,
     "start_time": "2020-08-29T16:42:23.007907",
     "status": "completed"
    },
    "tags": []
   },
   "outputs": [],
   "source": [
    "#Y train for our model\n",
    "y_train = data_train.pop(\"Survived\")"
   ]
  },
  {
   "cell_type": "code",
   "execution_count": 24,
   "metadata": {
    "execution": {
     "iopub.execute_input": "2020-08-29T16:42:23.074512Z",
     "iopub.status.busy": "2020-08-29T16:42:23.073845Z",
     "iopub.status.idle": "2020-08-29T16:42:23.076448Z",
     "shell.execute_reply": "2020-08-29T16:42:23.076965Z"
    },
    "papermill": {
     "duration": 0.025134,
     "end_time": "2020-08-29T16:42:23.077099",
     "exception": false,
     "start_time": "2020-08-29T16:42:23.051965",
     "status": "completed"
    },
    "tags": []
   },
   "outputs": [],
   "source": [
    "#X train\n",
    "x_train = data_train"
   ]
  },
  {
   "cell_type": "markdown",
   "metadata": {
    "papermill": {
     "duration": 0.016856,
     "end_time": "2020-08-29T16:42:23.111213",
     "exception": false,
     "start_time": "2020-08-29T16:42:23.094357",
     "status": "completed"
    },
    "tags": []
   },
   "source": [
    "<h2> Building our Model </h2>"
   ]
  },
  {
   "cell_type": "code",
   "execution_count": 25,
   "metadata": {
    "execution": {
     "iopub.execute_input": "2020-08-29T16:42:23.149458Z",
     "iopub.status.busy": "2020-08-29T16:42:23.148815Z",
     "iopub.status.idle": "2020-08-29T16:42:24.337984Z",
     "shell.execute_reply": "2020-08-29T16:42:24.337255Z"
    },
    "papermill": {
     "duration": 1.209571,
     "end_time": "2020-08-29T16:42:24.338117",
     "exception": false,
     "start_time": "2020-08-29T16:42:23.128546",
     "status": "completed"
    },
    "tags": []
   },
   "outputs": [
    {
     "data": {
      "text/html": [
       "<table class=\"simpletable\">\n",
       "<caption>Generalized Linear Model Regression Results</caption>\n",
       "<tr>\n",
       "  <th>Dep. Variable:</th>       <td>Survived</td>     <th>  No. Observations:  </th>  <td>   757</td> \n",
       "</tr>\n",
       "<tr>\n",
       "  <th>Model:</th>                  <td>GLM</td>       <th>  Df Residuals:      </th>  <td>   747</td> \n",
       "</tr>\n",
       "<tr>\n",
       "  <th>Model Family:</th>        <td>Binomial</td>     <th>  Df Model:          </th>  <td>     9</td> \n",
       "</tr>\n",
       "<tr>\n",
       "  <th>Link Function:</th>         <td>logit</td>      <th>  Scale:             </th> <td>  1.0000</td>\n",
       "</tr>\n",
       "<tr>\n",
       "  <th>Method:</th>                <td>IRLS</td>       <th>  Log-Likelihood:    </th> <td> -334.36</td>\n",
       "</tr>\n",
       "<tr>\n",
       "  <th>Date:</th>            <td>Sat, 29 Aug 2020</td> <th>  Deviance:          </th> <td>  668.72</td>\n",
       "</tr>\n",
       "<tr>\n",
       "  <th>Time:</th>                <td>16:42:24</td>     <th>  Pearson chi2:      </th>  <td>  774.</td> \n",
       "</tr>\n",
       "<tr>\n",
       "  <th>No. Iterations:</th>         <td>19</td>        <th>                     </th>     <td> </td>   \n",
       "</tr>\n",
       "<tr>\n",
       "  <th>Covariance Type:</th>     <td>nonrobust</td>    <th>                     </th>     <td> </td>   \n",
       "</tr>\n",
       "</table>\n",
       "<table class=\"simpletable\">\n",
       "<tr>\n",
       "     <td></td>       <th>coef</th>     <th>std err</th>      <th>z</th>      <th>P>|z|</th>  <th>[0.025</th>    <th>0.975]</th>  \n",
       "</tr>\n",
       "<tr>\n",
       "  <th>Pclass</th> <td>   -1.0889</td> <td>    0.155</td> <td>   -7.019</td> <td> 0.000</td> <td>   -1.393</td> <td>   -0.785</td>\n",
       "</tr>\n",
       "<tr>\n",
       "  <th>Sex</th>    <td>    2.6852</td> <td>    0.216</td> <td>   12.411</td> <td> 0.000</td> <td>    2.261</td> <td>    3.109</td>\n",
       "</tr>\n",
       "<tr>\n",
       "  <th>Age</th>    <td>   -0.0429</td> <td>    0.009</td> <td>   -5.005</td> <td> 0.000</td> <td>   -0.060</td> <td>   -0.026</td>\n",
       "</tr>\n",
       "<tr>\n",
       "  <th>SibSp</th>  <td>   -0.3259</td> <td>    0.118</td> <td>   -2.761</td> <td> 0.006</td> <td>   -0.557</td> <td>   -0.095</td>\n",
       "</tr>\n",
       "<tr>\n",
       "  <th>Parch</th>  <td>   -0.0630</td> <td>    0.130</td> <td>   -0.484</td> <td> 0.629</td> <td>   -0.318</td> <td>    0.192</td>\n",
       "</tr>\n",
       "<tr>\n",
       "  <th>Fare</th>   <td>    0.0013</td> <td>    0.002</td> <td>    0.556</td> <td> 0.578</td> <td>   -0.003</td> <td>    0.006</td>\n",
       "</tr>\n",
       "<tr>\n",
       "  <th>Cabin</th>  <td>   21.0839</td> <td> 1.22e+04</td> <td>    0.002</td> <td> 0.999</td> <td>-2.39e+04</td> <td>  2.4e+04</td>\n",
       "</tr>\n",
       "<tr>\n",
       "  <th>C</th>      <td>  -18.4598</td> <td> 1.22e+04</td> <td>   -0.002</td> <td> 0.999</td> <td> -2.4e+04</td> <td> 2.39e+04</td>\n",
       "</tr>\n",
       "<tr>\n",
       "  <th>Q</th>      <td>  -18.4630</td> <td> 1.22e+04</td> <td>   -0.002</td> <td> 0.999</td> <td> -2.4e+04</td> <td> 2.39e+04</td>\n",
       "</tr>\n",
       "<tr>\n",
       "  <th>S</th>      <td>  -18.8457</td> <td> 1.22e+04</td> <td>   -0.002</td> <td> 0.999</td> <td> -2.4e+04</td> <td> 2.39e+04</td>\n",
       "</tr>\n",
       "</table>"
      ],
      "text/plain": [
       "<class 'statsmodels.iolib.summary.Summary'>\n",
       "\"\"\"\n",
       "                 Generalized Linear Model Regression Results                  \n",
       "==============================================================================\n",
       "Dep. Variable:               Survived   No. Observations:                  757\n",
       "Model:                            GLM   Df Residuals:                      747\n",
       "Model Family:                Binomial   Df Model:                            9\n",
       "Link Function:                  logit   Scale:                          1.0000\n",
       "Method:                          IRLS   Log-Likelihood:                -334.36\n",
       "Date:                Sat, 29 Aug 2020   Deviance:                       668.72\n",
       "Time:                        16:42:24   Pearson chi2:                     774.\n",
       "No. Iterations:                    19                                         \n",
       "Covariance Type:            nonrobust                                         \n",
       "==============================================================================\n",
       "                 coef    std err          z      P>|z|      [0.025      0.975]\n",
       "------------------------------------------------------------------------------\n",
       "Pclass        -1.0889      0.155     -7.019      0.000      -1.393      -0.785\n",
       "Sex            2.6852      0.216     12.411      0.000       2.261       3.109\n",
       "Age           -0.0429      0.009     -5.005      0.000      -0.060      -0.026\n",
       "SibSp         -0.3259      0.118     -2.761      0.006      -0.557      -0.095\n",
       "Parch         -0.0630      0.130     -0.484      0.629      -0.318       0.192\n",
       "Fare           0.0013      0.002      0.556      0.578      -0.003       0.006\n",
       "Cabin         21.0839   1.22e+04      0.002      0.999   -2.39e+04     2.4e+04\n",
       "C            -18.4598   1.22e+04     -0.002      0.999    -2.4e+04    2.39e+04\n",
       "Q            -18.4630   1.22e+04     -0.002      0.999    -2.4e+04    2.39e+04\n",
       "S            -18.8457   1.22e+04     -0.002      0.999    -2.4e+04    2.39e+04\n",
       "==============================================================================\n",
       "\"\"\""
      ]
     },
     "execution_count": 25,
     "metadata": {},
     "output_type": "execute_result"
    }
   ],
   "source": [
    "#Building our first Model\n",
    "\n",
    "import statsmodels.api as sm\n",
    "#x_train = sm.add_constant(x_train)\n",
    "model1 = sm.GLM(y_train,(sm.add_constant(x_train)), family = sm.families.Binomial()).fit()\n",
    "model1.summary()"
   ]
  },
  {
   "cell_type": "code",
   "execution_count": 26,
   "metadata": {
    "execution": {
     "iopub.execute_input": "2020-08-29T16:42:24.385809Z",
     "iopub.status.busy": "2020-08-29T16:42:24.385087Z",
     "iopub.status.idle": "2020-08-29T16:42:24.388701Z",
     "shell.execute_reply": "2020-08-29T16:42:24.389315Z"
    },
    "papermill": {
     "duration": 0.028475,
     "end_time": "2020-08-29T16:42:24.389495",
     "exception": false,
     "start_time": "2020-08-29T16:42:24.361020",
     "status": "completed"
    },
    "tags": []
   },
   "outputs": [],
   "source": [
    "#Getting xtest and y test\n",
    "y_test = data_test.pop(\"Survived\")\n",
    "x_test = data_test"
   ]
  },
  {
   "cell_type": "code",
   "execution_count": 27,
   "metadata": {
    "execution": {
     "iopub.execute_input": "2020-08-29T16:42:24.443046Z",
     "iopub.status.busy": "2020-08-29T16:42:24.442025Z",
     "iopub.status.idle": "2020-08-29T16:42:24.446108Z",
     "shell.execute_reply": "2020-08-29T16:42:24.446714Z"
    },
    "papermill": {
     "duration": 0.039872,
     "end_time": "2020-08-29T16:42:24.446860",
     "exception": false,
     "start_time": "2020-08-29T16:42:24.406988",
     "status": "completed"
    },
    "tags": []
   },
   "outputs": [
    {
     "data": {
      "text/html": [
       "<div>\n",
       "<style scoped>\n",
       "    .dataframe tbody tr th:only-of-type {\n",
       "        vertical-align: middle;\n",
       "    }\n",
       "\n",
       "    .dataframe tbody tr th {\n",
       "        vertical-align: top;\n",
       "    }\n",
       "\n",
       "    .dataframe thead th {\n",
       "        text-align: right;\n",
       "    }\n",
       "</style>\n",
       "<table border=\"1\" class=\"dataframe\">\n",
       "  <thead>\n",
       "    <tr style=\"text-align: right;\">\n",
       "      <th></th>\n",
       "      <th>Pclass</th>\n",
       "      <th>Sex</th>\n",
       "      <th>Age</th>\n",
       "      <th>SibSp</th>\n",
       "      <th>Parch</th>\n",
       "      <th>Fare</th>\n",
       "      <th>Cabin</th>\n",
       "      <th>C</th>\n",
       "      <th>Q</th>\n",
       "      <th>S</th>\n",
       "    </tr>\n",
       "  </thead>\n",
       "  <tbody>\n",
       "    <tr>\n",
       "      <th>495</th>\n",
       "      <td>3</td>\n",
       "      <td>0</td>\n",
       "      <td>29.699118</td>\n",
       "      <td>0</td>\n",
       "      <td>0</td>\n",
       "      <td>14.4583</td>\n",
       "      <td>1</td>\n",
       "      <td>1</td>\n",
       "      <td>0</td>\n",
       "      <td>0</td>\n",
       "    </tr>\n",
       "    <tr>\n",
       "      <th>648</th>\n",
       "      <td>3</td>\n",
       "      <td>0</td>\n",
       "      <td>29.699118</td>\n",
       "      <td>0</td>\n",
       "      <td>0</td>\n",
       "      <td>7.5500</td>\n",
       "      <td>1</td>\n",
       "      <td>0</td>\n",
       "      <td>0</td>\n",
       "      <td>1</td>\n",
       "    </tr>\n",
       "    <tr>\n",
       "      <th>278</th>\n",
       "      <td>3</td>\n",
       "      <td>0</td>\n",
       "      <td>7.000000</td>\n",
       "      <td>4</td>\n",
       "      <td>1</td>\n",
       "      <td>29.1250</td>\n",
       "      <td>1</td>\n",
       "      <td>0</td>\n",
       "      <td>1</td>\n",
       "      <td>0</td>\n",
       "    </tr>\n",
       "    <tr>\n",
       "      <th>31</th>\n",
       "      <td>1</td>\n",
       "      <td>1</td>\n",
       "      <td>29.699118</td>\n",
       "      <td>1</td>\n",
       "      <td>0</td>\n",
       "      <td>146.5208</td>\n",
       "      <td>1</td>\n",
       "      <td>1</td>\n",
       "      <td>0</td>\n",
       "      <td>0</td>\n",
       "    </tr>\n",
       "    <tr>\n",
       "      <th>255</th>\n",
       "      <td>3</td>\n",
       "      <td>1</td>\n",
       "      <td>29.000000</td>\n",
       "      <td>0</td>\n",
       "      <td>2</td>\n",
       "      <td>15.2458</td>\n",
       "      <td>1</td>\n",
       "      <td>1</td>\n",
       "      <td>0</td>\n",
       "      <td>0</td>\n",
       "    </tr>\n",
       "  </tbody>\n",
       "</table>\n",
       "</div>"
      ],
      "text/plain": [
       "     Pclass  Sex        Age  SibSp  Parch      Fare  Cabin  C  Q  S\n",
       "495       3    0  29.699118      0      0   14.4583      1  1  0  0\n",
       "648       3    0  29.699118      0      0    7.5500      1  0  0  1\n",
       "278       3    0   7.000000      4      1   29.1250      1  0  1  0\n",
       "31        1    1  29.699118      1      0  146.5208      1  1  0  0\n",
       "255       3    1  29.000000      0      2   15.2458      1  1  0  0"
      ]
     },
     "execution_count": 27,
     "metadata": {},
     "output_type": "execute_result"
    }
   ],
   "source": [
    "x_test.head()"
   ]
  },
  {
   "cell_type": "code",
   "execution_count": 28,
   "metadata": {
    "execution": {
     "iopub.execute_input": "2020-08-29T16:42:24.496665Z",
     "iopub.status.busy": "2020-08-29T16:42:24.495580Z",
     "iopub.status.idle": "2020-08-29T16:42:24.501042Z",
     "shell.execute_reply": "2020-08-29T16:42:24.501768Z"
    },
    "papermill": {
     "duration": 0.037083,
     "end_time": "2020-08-29T16:42:24.501958",
     "exception": false,
     "start_time": "2020-08-29T16:42:24.464875",
     "status": "completed"
    },
    "tags": []
   },
   "outputs": [
    {
     "data": {
      "text/plain": [
       "495    0\n",
       "648    0\n",
       "278    0\n",
       "31     1\n",
       "255    1\n",
       "Name: Survived, dtype: int64"
      ]
     },
     "execution_count": 28,
     "metadata": {},
     "output_type": "execute_result"
    }
   ],
   "source": [
    "y_test.head()"
   ]
  },
  {
   "cell_type": "code",
   "execution_count": 29,
   "metadata": {
    "execution": {
     "iopub.execute_input": "2020-08-29T16:42:24.569611Z",
     "iopub.status.busy": "2020-08-29T16:42:24.568651Z",
     "iopub.status.idle": "2020-08-29T16:42:24.581824Z",
     "shell.execute_reply": "2020-08-29T16:42:24.580899Z"
    },
    "papermill": {
     "duration": 0.049729,
     "end_time": "2020-08-29T16:42:24.581992",
     "exception": false,
     "start_time": "2020-08-29T16:42:24.532263",
     "status": "completed"
    },
    "tags": []
   },
   "outputs": [],
   "source": [
    "#Using our model for prediction\n",
    "x_test_sm = sm.add_constant(x_test)\n",
    "y_pred = model1.predict(x_test)"
   ]
  },
  {
   "cell_type": "code",
   "execution_count": 30,
   "metadata": {
    "execution": {
     "iopub.execute_input": "2020-08-29T16:42:24.640583Z",
     "iopub.status.busy": "2020-08-29T16:42:24.639664Z",
     "iopub.status.idle": "2020-08-29T16:42:24.646768Z",
     "shell.execute_reply": "2020-08-29T16:42:24.647645Z"
    },
    "papermill": {
     "duration": 0.038526,
     "end_time": "2020-08-29T16:42:24.647830",
     "exception": false,
     "start_time": "2020-08-29T16:42:24.609304",
     "status": "completed"
    },
    "tags": []
   },
   "outputs": [
    {
     "data": {
      "text/plain": [
       "(134,)"
      ]
     },
     "execution_count": 30,
     "metadata": {},
     "output_type": "execute_result"
    }
   ],
   "source": [
    "y_pred.shape"
   ]
  },
  {
   "cell_type": "code",
   "execution_count": 31,
   "metadata": {
    "execution": {
     "iopub.execute_input": "2020-08-29T16:42:24.710370Z",
     "iopub.status.busy": "2020-08-29T16:42:24.709379Z",
     "iopub.status.idle": "2020-08-29T16:42:24.719224Z",
     "shell.execute_reply": "2020-08-29T16:42:24.720140Z"
    },
    "papermill": {
     "duration": 0.044868,
     "end_time": "2020-08-29T16:42:24.720365",
     "exception": false,
     "start_time": "2020-08-29T16:42:24.675497",
     "status": "completed"
    },
    "tags": []
   },
   "outputs": [],
   "source": [
    "#SO as to convert it inot 0 or 1\n",
    "#This is mapping for that\n",
    "\n",
    "def Categ(x):\n",
    "    if x > 0.5:\n",
    "        return 1\n",
    "    else:\n",
    "        return 0\n",
    "    \n",
    "y_pred = y_pred.apply(Categ)"
   ]
  },
  {
   "cell_type": "code",
   "execution_count": 32,
   "metadata": {
    "execution": {
     "iopub.execute_input": "2020-08-29T16:42:24.851609Z",
     "iopub.status.busy": "2020-08-29T16:42:24.850913Z",
     "iopub.status.idle": "2020-08-29T16:42:24.860117Z",
     "shell.execute_reply": "2020-08-29T16:42:24.859597Z"
    },
    "papermill": {
     "duration": 0.032172,
     "end_time": "2020-08-29T16:42:24.860230",
     "exception": false,
     "start_time": "2020-08-29T16:42:24.828058",
     "status": "completed"
    },
    "tags": []
   },
   "outputs": [
    {
     "data": {
      "text/plain": [
       "495    0\n",
       "648    0\n",
       "278    0\n",
       "31     1\n",
       "255    1\n",
       "      ..\n",
       "150    0\n",
       "501    1\n",
       "494    0\n",
       "784    0\n",
       "113    1\n",
       "Length: 134, dtype: int64"
      ]
     },
     "execution_count": 32,
     "metadata": {},
     "output_type": "execute_result"
    }
   ],
   "source": [
    "y_pred"
   ]
  },
  {
   "cell_type": "markdown",
   "metadata": {
    "papermill": {
     "duration": 0.018303,
     "end_time": "2020-08-29T16:42:24.897309",
     "exception": false,
     "start_time": "2020-08-29T16:42:24.879006",
     "status": "completed"
    },
    "tags": []
   },
   "source": [
    "**Model Evaluation on validating data**"
   ]
  },
  {
   "cell_type": "code",
   "execution_count": 33,
   "metadata": {
    "execution": {
     "iopub.execute_input": "2020-08-29T16:42:24.939848Z",
     "iopub.status.busy": "2020-08-29T16:42:24.938888Z",
     "iopub.status.idle": "2020-08-29T16:42:24.942234Z",
     "shell.execute_reply": "2020-08-29T16:42:24.941637Z"
    },
    "papermill": {
     "duration": 0.026648,
     "end_time": "2020-08-29T16:42:24.942342",
     "exception": false,
     "start_time": "2020-08-29T16:42:24.915694",
     "status": "completed"
    },
    "tags": []
   },
   "outputs": [],
   "source": [
    "from sklearn import metrics"
   ]
  },
  {
   "cell_type": "code",
   "execution_count": 34,
   "metadata": {
    "execution": {
     "iopub.execute_input": "2020-08-29T16:42:24.983379Z",
     "iopub.status.busy": "2020-08-29T16:42:24.982438Z",
     "iopub.status.idle": "2020-08-29T16:42:24.989779Z",
     "shell.execute_reply": "2020-08-29T16:42:24.989211Z"
    },
    "papermill": {
     "duration": 0.028789,
     "end_time": "2020-08-29T16:42:24.989901",
     "exception": false,
     "start_time": "2020-08-29T16:42:24.961112",
     "status": "completed"
    },
    "tags": []
   },
   "outputs": [
    {
     "name": "stdout",
     "output_type": "stream",
     "text": [
      "0.7910447761194029\n"
     ]
    }
   ],
   "source": [
    "#Accuracy is good \n",
    "print(metrics.accuracy_score(y_pred, y_test))"
   ]
  },
  {
   "cell_type": "code",
   "execution_count": 35,
   "metadata": {
    "execution": {
     "iopub.execute_input": "2020-08-29T16:42:25.034644Z",
     "iopub.status.busy": "2020-08-29T16:42:25.033847Z",
     "iopub.status.idle": "2020-08-29T16:42:25.061068Z",
     "shell.execute_reply": "2020-08-29T16:42:25.061739Z"
    },
    "papermill": {
     "duration": 0.053696,
     "end_time": "2020-08-29T16:42:25.061901",
     "exception": false,
     "start_time": "2020-08-29T16:42:25.008205",
     "status": "completed"
    },
    "tags": []
   },
   "outputs": [
    {
     "data": {
      "text/html": [
       "<div>\n",
       "<style scoped>\n",
       "    .dataframe tbody tr th:only-of-type {\n",
       "        vertical-align: middle;\n",
       "    }\n",
       "\n",
       "    .dataframe tbody tr th {\n",
       "        vertical-align: top;\n",
       "    }\n",
       "\n",
       "    .dataframe thead th {\n",
       "        text-align: right;\n",
       "    }\n",
       "</style>\n",
       "<table border=\"1\" class=\"dataframe\">\n",
       "  <thead>\n",
       "    <tr style=\"text-align: right;\">\n",
       "      <th></th>\n",
       "      <th>Features</th>\n",
       "      <th>VIF</th>\n",
       "    </tr>\n",
       "  </thead>\n",
       "  <tbody>\n",
       "    <tr>\n",
       "      <th>6</th>\n",
       "      <td>Cabin</td>\n",
       "      <td>418.70</td>\n",
       "    </tr>\n",
       "    <tr>\n",
       "      <th>9</th>\n",
       "      <td>S</td>\n",
       "      <td>77.27</td>\n",
       "    </tr>\n",
       "    <tr>\n",
       "      <th>7</th>\n",
       "      <td>C</td>\n",
       "      <td>58.23</td>\n",
       "    </tr>\n",
       "    <tr>\n",
       "      <th>8</th>\n",
       "      <td>Q</td>\n",
       "      <td>32.45</td>\n",
       "    </tr>\n",
       "    <tr>\n",
       "      <th>0</th>\n",
       "      <td>Pclass</td>\n",
       "      <td>1.75</td>\n",
       "    </tr>\n",
       "    <tr>\n",
       "      <th>5</th>\n",
       "      <td>Fare</td>\n",
       "      <td>1.61</td>\n",
       "    </tr>\n",
       "    <tr>\n",
       "      <th>4</th>\n",
       "      <td>Parch</td>\n",
       "      <td>1.33</td>\n",
       "    </tr>\n",
       "    <tr>\n",
       "      <th>3</th>\n",
       "      <td>SibSp</td>\n",
       "      <td>1.28</td>\n",
       "    </tr>\n",
       "    <tr>\n",
       "      <th>2</th>\n",
       "      <td>Age</td>\n",
       "      <td>1.21</td>\n",
       "    </tr>\n",
       "    <tr>\n",
       "      <th>1</th>\n",
       "      <td>Sex</td>\n",
       "      <td>1.14</td>\n",
       "    </tr>\n",
       "  </tbody>\n",
       "</table>\n",
       "</div>"
      ],
      "text/plain": [
       "  Features     VIF\n",
       "6    Cabin  418.70\n",
       "9        S   77.27\n",
       "7        C   58.23\n",
       "8        Q   32.45\n",
       "0   Pclass    1.75\n",
       "5     Fare    1.61\n",
       "4    Parch    1.33\n",
       "3    SibSp    1.28\n",
       "2      Age    1.21\n",
       "1      Sex    1.14"
      ]
     },
     "execution_count": 35,
     "metadata": {},
     "output_type": "execute_result"
    }
   ],
   "source": [
    "# Create a dataframe that will contain the names of all the feature variables and their respective VIFs\n",
    "from statsmodels.stats.outliers_influence import variance_inflation_factor\n",
    "vif = pd.DataFrame()\n",
    "vif['Features'] = x_train.columns\n",
    "vif['VIF'] = [variance_inflation_factor(x_train.values, i) for i in range(x_train.shape[1])]\n",
    "vif['VIF'] = round(vif['VIF'], 2)\n",
    "vif = vif.sort_values(by = \"VIF\", ascending = False)\n",
    "vif"
   ]
  },
  {
   "cell_type": "code",
   "execution_count": 36,
   "metadata": {
    "execution": {
     "iopub.execute_input": "2020-08-29T16:42:25.103998Z",
     "iopub.status.busy": "2020-08-29T16:42:25.103002Z",
     "iopub.status.idle": "2020-08-29T16:42:25.117900Z",
     "shell.execute_reply": "2020-08-29T16:42:25.118557Z"
    },
    "papermill": {
     "duration": 0.037736,
     "end_time": "2020-08-29T16:42:25.118711",
     "exception": false,
     "start_time": "2020-08-29T16:42:25.080975",
     "status": "completed"
    },
    "tags": []
   },
   "outputs": [
    {
     "data": {
      "text/html": [
       "<div>\n",
       "<style scoped>\n",
       "    .dataframe tbody tr th:only-of-type {\n",
       "        vertical-align: middle;\n",
       "    }\n",
       "\n",
       "    .dataframe tbody tr th {\n",
       "        vertical-align: top;\n",
       "    }\n",
       "\n",
       "    .dataframe thead th {\n",
       "        text-align: right;\n",
       "    }\n",
       "</style>\n",
       "<table border=\"1\" class=\"dataframe\">\n",
       "  <thead>\n",
       "    <tr style=\"text-align: right;\">\n",
       "      <th></th>\n",
       "      <th>Survived</th>\n",
       "      <th>Pclass</th>\n",
       "      <th>Sex</th>\n",
       "      <th>Age</th>\n",
       "      <th>SibSp</th>\n",
       "      <th>Parch</th>\n",
       "      <th>Fare</th>\n",
       "      <th>Cabin</th>\n",
       "      <th>C</th>\n",
       "      <th>Q</th>\n",
       "      <th>S</th>\n",
       "    </tr>\n",
       "  </thead>\n",
       "  <tbody>\n",
       "    <tr>\n",
       "      <th>0</th>\n",
       "      <td>0</td>\n",
       "      <td>3</td>\n",
       "      <td>0</td>\n",
       "      <td>22.0</td>\n",
       "      <td>1</td>\n",
       "      <td>0</td>\n",
       "      <td>7.2500</td>\n",
       "      <td>1</td>\n",
       "      <td>0</td>\n",
       "      <td>0</td>\n",
       "      <td>1</td>\n",
       "    </tr>\n",
       "    <tr>\n",
       "      <th>1</th>\n",
       "      <td>1</td>\n",
       "      <td>1</td>\n",
       "      <td>1</td>\n",
       "      <td>38.0</td>\n",
       "      <td>1</td>\n",
       "      <td>0</td>\n",
       "      <td>71.2833</td>\n",
       "      <td>1</td>\n",
       "      <td>1</td>\n",
       "      <td>0</td>\n",
       "      <td>0</td>\n",
       "    </tr>\n",
       "    <tr>\n",
       "      <th>2</th>\n",
       "      <td>1</td>\n",
       "      <td>3</td>\n",
       "      <td>1</td>\n",
       "      <td>26.0</td>\n",
       "      <td>0</td>\n",
       "      <td>0</td>\n",
       "      <td>7.9250</td>\n",
       "      <td>1</td>\n",
       "      <td>0</td>\n",
       "      <td>0</td>\n",
       "      <td>1</td>\n",
       "    </tr>\n",
       "    <tr>\n",
       "      <th>3</th>\n",
       "      <td>1</td>\n",
       "      <td>1</td>\n",
       "      <td>1</td>\n",
       "      <td>35.0</td>\n",
       "      <td>1</td>\n",
       "      <td>0</td>\n",
       "      <td>53.1000</td>\n",
       "      <td>1</td>\n",
       "      <td>0</td>\n",
       "      <td>0</td>\n",
       "      <td>1</td>\n",
       "    </tr>\n",
       "    <tr>\n",
       "      <th>4</th>\n",
       "      <td>0</td>\n",
       "      <td>3</td>\n",
       "      <td>0</td>\n",
       "      <td>35.0</td>\n",
       "      <td>0</td>\n",
       "      <td>0</td>\n",
       "      <td>8.0500</td>\n",
       "      <td>1</td>\n",
       "      <td>0</td>\n",
       "      <td>0</td>\n",
       "      <td>1</td>\n",
       "    </tr>\n",
       "  </tbody>\n",
       "</table>\n",
       "</div>"
      ],
      "text/plain": [
       "   Survived  Pclass  Sex   Age  SibSp  Parch     Fare  Cabin  C  Q  S\n",
       "0         0       3    0  22.0      1      0   7.2500      1  0  0  1\n",
       "1         1       1    1  38.0      1      0  71.2833      1  1  0  0\n",
       "2         1       3    1  26.0      0      0   7.9250      1  0  0  1\n",
       "3         1       1    1  35.0      1      0  53.1000      1  0  0  1\n",
       "4         0       3    0  35.0      0      0   8.0500      1  0  0  1"
      ]
     },
     "execution_count": 36,
     "metadata": {},
     "output_type": "execute_result"
    }
   ],
   "source": [
    "data.head()"
   ]
  },
  {
   "cell_type": "code",
   "execution_count": 37,
   "metadata": {
    "execution": {
     "iopub.execute_input": "2020-08-29T16:42:25.160497Z",
     "iopub.status.busy": "2020-08-29T16:42:25.159475Z",
     "iopub.status.idle": "2020-08-29T16:42:25.163835Z",
     "shell.execute_reply": "2020-08-29T16:42:25.164350Z"
    },
    "papermill": {
     "duration": 0.026952,
     "end_time": "2020-08-29T16:42:25.164536",
     "exception": false,
     "start_time": "2020-08-29T16:42:25.137584",
     "status": "completed"
    },
    "tags": []
   },
   "outputs": [],
   "source": [
    "#removing these columns [\"Cabin\", \"C\", \"S\", \"Q\"] and building the model again\n",
    "col = [\"Cabin\", \"C\", \"S\", \"Q\"]"
   ]
  },
  {
   "cell_type": "code",
   "execution_count": 38,
   "metadata": {
    "execution": {
     "iopub.execute_input": "2020-08-29T16:42:25.206199Z",
     "iopub.status.busy": "2020-08-29T16:42:25.205224Z",
     "iopub.status.idle": "2020-08-29T16:42:25.219462Z",
     "shell.execute_reply": "2020-08-29T16:42:25.220032Z"
    },
    "papermill": {
     "duration": 0.036654,
     "end_time": "2020-08-29T16:42:25.220173",
     "exception": false,
     "start_time": "2020-08-29T16:42:25.183519",
     "status": "completed"
    },
    "tags": []
   },
   "outputs": [
    {
     "data": {
      "text/html": [
       "<div>\n",
       "<style scoped>\n",
       "    .dataframe tbody tr th:only-of-type {\n",
       "        vertical-align: middle;\n",
       "    }\n",
       "\n",
       "    .dataframe tbody tr th {\n",
       "        vertical-align: top;\n",
       "    }\n",
       "\n",
       "    .dataframe thead th {\n",
       "        text-align: right;\n",
       "    }\n",
       "</style>\n",
       "<table border=\"1\" class=\"dataframe\">\n",
       "  <thead>\n",
       "    <tr style=\"text-align: right;\">\n",
       "      <th></th>\n",
       "      <th>Pclass</th>\n",
       "      <th>Sex</th>\n",
       "      <th>Age</th>\n",
       "      <th>SibSp</th>\n",
       "      <th>Parch</th>\n",
       "      <th>Fare</th>\n",
       "      <th>Cabin</th>\n",
       "      <th>C</th>\n",
       "      <th>Q</th>\n",
       "      <th>S</th>\n",
       "    </tr>\n",
       "  </thead>\n",
       "  <tbody>\n",
       "    <tr>\n",
       "      <th>495</th>\n",
       "      <td>3</td>\n",
       "      <td>0</td>\n",
       "      <td>29.699118</td>\n",
       "      <td>0</td>\n",
       "      <td>0</td>\n",
       "      <td>14.4583</td>\n",
       "      <td>1</td>\n",
       "      <td>1</td>\n",
       "      <td>0</td>\n",
       "      <td>0</td>\n",
       "    </tr>\n",
       "    <tr>\n",
       "      <th>648</th>\n",
       "      <td>3</td>\n",
       "      <td>0</td>\n",
       "      <td>29.699118</td>\n",
       "      <td>0</td>\n",
       "      <td>0</td>\n",
       "      <td>7.5500</td>\n",
       "      <td>1</td>\n",
       "      <td>0</td>\n",
       "      <td>0</td>\n",
       "      <td>1</td>\n",
       "    </tr>\n",
       "    <tr>\n",
       "      <th>278</th>\n",
       "      <td>3</td>\n",
       "      <td>0</td>\n",
       "      <td>7.000000</td>\n",
       "      <td>4</td>\n",
       "      <td>1</td>\n",
       "      <td>29.1250</td>\n",
       "      <td>1</td>\n",
       "      <td>0</td>\n",
       "      <td>1</td>\n",
       "      <td>0</td>\n",
       "    </tr>\n",
       "    <tr>\n",
       "      <th>31</th>\n",
       "      <td>1</td>\n",
       "      <td>1</td>\n",
       "      <td>29.699118</td>\n",
       "      <td>1</td>\n",
       "      <td>0</td>\n",
       "      <td>146.5208</td>\n",
       "      <td>1</td>\n",
       "      <td>1</td>\n",
       "      <td>0</td>\n",
       "      <td>0</td>\n",
       "    </tr>\n",
       "    <tr>\n",
       "      <th>255</th>\n",
       "      <td>3</td>\n",
       "      <td>1</td>\n",
       "      <td>29.000000</td>\n",
       "      <td>0</td>\n",
       "      <td>2</td>\n",
       "      <td>15.2458</td>\n",
       "      <td>1</td>\n",
       "      <td>1</td>\n",
       "      <td>0</td>\n",
       "      <td>0</td>\n",
       "    </tr>\n",
       "  </tbody>\n",
       "</table>\n",
       "</div>"
      ],
      "text/plain": [
       "     Pclass  Sex        Age  SibSp  Parch      Fare  Cabin  C  Q  S\n",
       "495       3    0  29.699118      0      0   14.4583      1  1  0  0\n",
       "648       3    0  29.699118      0      0    7.5500      1  0  0  1\n",
       "278       3    0   7.000000      4      1   29.1250      1  0  1  0\n",
       "31        1    1  29.699118      1      0  146.5208      1  1  0  0\n",
       "255       3    1  29.000000      0      2   15.2458      1  1  0  0"
      ]
     },
     "execution_count": 38,
     "metadata": {},
     "output_type": "execute_result"
    }
   ],
   "source": [
    "data_test.head()"
   ]
  },
  {
   "cell_type": "markdown",
   "metadata": {
    "papermill": {
     "duration": 0.01864,
     "end_time": "2020-08-29T16:42:25.257871",
     "exception": false,
     "start_time": "2020-08-29T16:42:25.239231",
     "status": "completed"
    },
    "tags": []
   },
   "source": [
    "<h3> RFE and Building our Model Again </h3>"
   ]
  },
  {
   "cell_type": "code",
   "execution_count": 39,
   "metadata": {
    "execution": {
     "iopub.execute_input": "2020-08-29T16:42:25.298966Z",
     "iopub.status.busy": "2020-08-29T16:42:25.297960Z",
     "iopub.status.idle": "2020-08-29T16:42:25.845781Z",
     "shell.execute_reply": "2020-08-29T16:42:25.845170Z"
    },
    "papermill": {
     "duration": 0.569425,
     "end_time": "2020-08-29T16:42:25.845909",
     "exception": false,
     "start_time": "2020-08-29T16:42:25.276484",
     "status": "completed"
    },
    "tags": []
   },
   "outputs": [
    {
     "name": "stderr",
     "output_type": "stream",
     "text": [
      "/opt/conda/lib/python3.7/site-packages/sklearn/utils/validation.py:70: FutureWarning: Pass n_features_to_select=5 as keyword args. From version 0.25 passing these as positional arguments will result in an error\n",
      "  FutureWarning)\n"
     ]
    }
   ],
   "source": [
    "#RFE to get the top 5 features and using them to build our model\n",
    "\n",
    "from sklearn.linear_model import LogisticRegression\n",
    "logreg = LogisticRegression(max_iter=400)\n",
    "\n",
    "from sklearn.feature_selection import RFE\n",
    "rfe = RFE(logreg, 5) # running RFE with 13 variables as output\n",
    "rfe = rfe.fit(x_train, y_train)\n"
   ]
  },
  {
   "cell_type": "code",
   "execution_count": 40,
   "metadata": {
    "execution": {
     "iopub.execute_input": "2020-08-29T16:42:25.897025Z",
     "iopub.status.busy": "2020-08-29T16:42:25.896148Z",
     "iopub.status.idle": "2020-08-29T16:42:25.899617Z",
     "shell.execute_reply": "2020-08-29T16:42:25.900210Z"
    },
    "papermill": {
     "duration": 0.031774,
     "end_time": "2020-08-29T16:42:25.900345",
     "exception": false,
     "start_time": "2020-08-29T16:42:25.868571",
     "status": "completed"
    },
    "tags": []
   },
   "outputs": [
    {
     "data": {
      "text/plain": [
       "Index(['Pclass', 'Sex', 'SibSp', 'C', 'S'], dtype='object')"
      ]
     },
     "execution_count": 40,
     "metadata": {},
     "output_type": "execute_result"
    }
   ],
   "source": [
    "col1 = x_train.columns[rfe.support_]\n",
    "col1"
   ]
  },
  {
   "cell_type": "code",
   "execution_count": 41,
   "metadata": {
    "execution": {
     "iopub.execute_input": "2020-08-29T16:42:25.943274Z",
     "iopub.status.busy": "2020-08-29T16:42:25.942261Z",
     "iopub.status.idle": "2020-08-29T16:42:25.970063Z",
     "shell.execute_reply": "2020-08-29T16:42:25.969498Z"
    },
    "papermill": {
     "duration": 0.050271,
     "end_time": "2020-08-29T16:42:25.970175",
     "exception": false,
     "start_time": "2020-08-29T16:42:25.919904",
     "status": "completed"
    },
    "tags": []
   },
   "outputs": [
    {
     "data": {
      "text/html": [
       "<table class=\"simpletable\">\n",
       "<caption>Generalized Linear Model Regression Results</caption>\n",
       "<tr>\n",
       "  <th>Dep. Variable:</th>       <td>Survived</td>     <th>  No. Observations:  </th>  <td>   757</td> \n",
       "</tr>\n",
       "<tr>\n",
       "  <th>Model:</th>                  <td>GLM</td>       <th>  Df Residuals:      </th>  <td>   751</td> \n",
       "</tr>\n",
       "<tr>\n",
       "  <th>Model Family:</th>        <td>Binomial</td>     <th>  Df Model:          </th>  <td>     5</td> \n",
       "</tr>\n",
       "<tr>\n",
       "  <th>Link Function:</th>         <td>logit</td>      <th>  Scale:             </th> <td>  1.0000</td>\n",
       "</tr>\n",
       "<tr>\n",
       "  <th>Method:</th>                <td>IRLS</td>       <th>  Log-Likelihood:    </th> <td> -348.49</td>\n",
       "</tr>\n",
       "<tr>\n",
       "  <th>Date:</th>            <td>Sat, 29 Aug 2020</td> <th>  Deviance:          </th> <td>  696.98</td>\n",
       "</tr>\n",
       "<tr>\n",
       "  <th>Time:</th>                <td>16:42:25</td>     <th>  Pearson chi2:      </th>  <td>  769.</td> \n",
       "</tr>\n",
       "<tr>\n",
       "  <th>No. Iterations:</th>          <td>5</td>        <th>                     </th>     <td> </td>   \n",
       "</tr>\n",
       "<tr>\n",
       "  <th>Covariance Type:</th>     <td>nonrobust</td>    <th>                     </th>     <td> </td>   \n",
       "</tr>\n",
       "</table>\n",
       "<table class=\"simpletable\">\n",
       "<tr>\n",
       "     <td></td>       <th>coef</th>     <th>std err</th>      <th>z</th>      <th>P>|z|</th>  <th>[0.025</th>    <th>0.975]</th>  \n",
       "</tr>\n",
       "<tr>\n",
       "  <th>const</th>  <td>    0.6838</td> <td>    0.455</td> <td>    1.501</td> <td> 0.133</td> <td>   -0.209</td> <td>    1.576</td>\n",
       "</tr>\n",
       "<tr>\n",
       "  <th>Pclass</th> <td>   -0.8586</td> <td>    0.119</td> <td>   -7.188</td> <td> 0.000</td> <td>   -1.093</td> <td>   -0.624</td>\n",
       "</tr>\n",
       "<tr>\n",
       "  <th>Sex</th>    <td>    2.6943</td> <td>    0.207</td> <td>   13.002</td> <td> 0.000</td> <td>    2.288</td> <td>    3.100</td>\n",
       "</tr>\n",
       "<tr>\n",
       "  <th>SibSp</th>  <td>   -0.2356</td> <td>    0.103</td> <td>   -2.295</td> <td> 0.022</td> <td>   -0.437</td> <td>   -0.034</td>\n",
       "</tr>\n",
       "<tr>\n",
       "  <th>C</th>      <td>    0.1831</td> <td>    0.389</td> <td>    0.470</td> <td> 0.638</td> <td>   -0.580</td> <td>    0.946</td>\n",
       "</tr>\n",
       "<tr>\n",
       "  <th>S</th>      <td>   -0.2781</td> <td>    0.336</td> <td>   -0.828</td> <td> 0.408</td> <td>   -0.937</td> <td>    0.380</td>\n",
       "</tr>\n",
       "</table>"
      ],
      "text/plain": [
       "<class 'statsmodels.iolib.summary.Summary'>\n",
       "\"\"\"\n",
       "                 Generalized Linear Model Regression Results                  \n",
       "==============================================================================\n",
       "Dep. Variable:               Survived   No. Observations:                  757\n",
       "Model:                            GLM   Df Residuals:                      751\n",
       "Model Family:                Binomial   Df Model:                            5\n",
       "Link Function:                  logit   Scale:                          1.0000\n",
       "Method:                          IRLS   Log-Likelihood:                -348.49\n",
       "Date:                Sat, 29 Aug 2020   Deviance:                       696.98\n",
       "Time:                        16:42:25   Pearson chi2:                     769.\n",
       "No. Iterations:                     5                                         \n",
       "Covariance Type:            nonrobust                                         \n",
       "==============================================================================\n",
       "                 coef    std err          z      P>|z|      [0.025      0.975]\n",
       "------------------------------------------------------------------------------\n",
       "const          0.6838      0.455      1.501      0.133      -0.209       1.576\n",
       "Pclass        -0.8586      0.119     -7.188      0.000      -1.093      -0.624\n",
       "Sex            2.6943      0.207     13.002      0.000       2.288       3.100\n",
       "SibSp         -0.2356      0.103     -2.295      0.022      -0.437      -0.034\n",
       "C              0.1831      0.389      0.470      0.638      -0.580       0.946\n",
       "S             -0.2781      0.336     -0.828      0.408      -0.937       0.380\n",
       "==============================================================================\n",
       "\"\"\""
      ]
     },
     "execution_count": 41,
     "metadata": {},
     "output_type": "execute_result"
    }
   ],
   "source": [
    "#Training the model\n",
    "x_train_sm = sm.add_constant(x_train[col1])\n",
    "model2 = sm.GLM(y_train,x_train_sm, family = sm.families.Binomial())\n",
    "model2 = model2.fit()\n",
    "model2.summary()"
   ]
  },
  {
   "cell_type": "code",
   "execution_count": 42,
   "metadata": {
    "execution": {
     "iopub.execute_input": "2020-08-29T16:42:26.013176Z",
     "iopub.status.busy": "2020-08-29T16:42:26.012197Z",
     "iopub.status.idle": "2020-08-29T16:42:26.023686Z",
     "shell.execute_reply": "2020-08-29T16:42:26.024264Z"
    },
    "papermill": {
     "duration": 0.034587,
     "end_time": "2020-08-29T16:42:26.024431",
     "exception": false,
     "start_time": "2020-08-29T16:42:25.989844",
     "status": "completed"
    },
    "tags": []
   },
   "outputs": [
    {
     "data": {
      "text/html": [
       "<div>\n",
       "<style scoped>\n",
       "    .dataframe tbody tr th:only-of-type {\n",
       "        vertical-align: middle;\n",
       "    }\n",
       "\n",
       "    .dataframe tbody tr th {\n",
       "        vertical-align: top;\n",
       "    }\n",
       "\n",
       "    .dataframe thead th {\n",
       "        text-align: right;\n",
       "    }\n",
       "</style>\n",
       "<table border=\"1\" class=\"dataframe\">\n",
       "  <thead>\n",
       "    <tr style=\"text-align: right;\">\n",
       "      <th></th>\n",
       "      <th>Pclass</th>\n",
       "      <th>Sex</th>\n",
       "      <th>SibSp</th>\n",
       "      <th>C</th>\n",
       "      <th>S</th>\n",
       "    </tr>\n",
       "  </thead>\n",
       "  <tbody>\n",
       "    <tr>\n",
       "      <th>495</th>\n",
       "      <td>3</td>\n",
       "      <td>0</td>\n",
       "      <td>0</td>\n",
       "      <td>1</td>\n",
       "      <td>0</td>\n",
       "    </tr>\n",
       "    <tr>\n",
       "      <th>648</th>\n",
       "      <td>3</td>\n",
       "      <td>0</td>\n",
       "      <td>0</td>\n",
       "      <td>0</td>\n",
       "      <td>1</td>\n",
       "    </tr>\n",
       "    <tr>\n",
       "      <th>278</th>\n",
       "      <td>3</td>\n",
       "      <td>0</td>\n",
       "      <td>4</td>\n",
       "      <td>0</td>\n",
       "      <td>0</td>\n",
       "    </tr>\n",
       "    <tr>\n",
       "      <th>31</th>\n",
       "      <td>1</td>\n",
       "      <td>1</td>\n",
       "      <td>1</td>\n",
       "      <td>1</td>\n",
       "      <td>0</td>\n",
       "    </tr>\n",
       "    <tr>\n",
       "      <th>255</th>\n",
       "      <td>3</td>\n",
       "      <td>1</td>\n",
       "      <td>0</td>\n",
       "      <td>1</td>\n",
       "      <td>0</td>\n",
       "    </tr>\n",
       "  </tbody>\n",
       "</table>\n",
       "</div>"
      ],
      "text/plain": [
       "     Pclass  Sex  SibSp  C  S\n",
       "495       3    0      0  1  0\n",
       "648       3    0      0  0  1\n",
       "278       3    0      4  0  0\n",
       "31        1    1      1  1  0\n",
       "255       3    1      0  1  0"
      ]
     },
     "execution_count": 42,
     "metadata": {},
     "output_type": "execute_result"
    }
   ],
   "source": [
    "x_test[col1].head()"
   ]
  },
  {
   "cell_type": "code",
   "execution_count": 43,
   "metadata": {
    "execution": {
     "iopub.execute_input": "2020-08-29T16:42:26.078193Z",
     "iopub.status.busy": "2020-08-29T16:42:26.077539Z",
     "iopub.status.idle": "2020-08-29T16:42:26.081771Z",
     "shell.execute_reply": "2020-08-29T16:42:26.082270Z"
    },
    "papermill": {
     "duration": 0.038954,
     "end_time": "2020-08-29T16:42:26.082435",
     "exception": false,
     "start_time": "2020-08-29T16:42:26.043481",
     "status": "completed"
    },
    "tags": []
   },
   "outputs": [],
   "source": [
    "#Prediction\n",
    "x_test_t = sm.add_constant(x_test[col1])\n",
    "y_pred1 = model2.predict(x_test_t)"
   ]
  },
  {
   "cell_type": "code",
   "execution_count": 44,
   "metadata": {
    "execution": {
     "iopub.execute_input": "2020-08-29T16:42:26.127753Z",
     "iopub.status.busy": "2020-08-29T16:42:26.126765Z",
     "iopub.status.idle": "2020-08-29T16:42:26.130300Z",
     "shell.execute_reply": "2020-08-29T16:42:26.129746Z"
    },
    "papermill": {
     "duration": 0.028512,
     "end_time": "2020-08-29T16:42:26.130443",
     "exception": false,
     "start_time": "2020-08-29T16:42:26.101931",
     "status": "completed"
    },
    "tags": []
   },
   "outputs": [],
   "source": [
    "y_pred1 = y_pred1.apply(Categ)"
   ]
  },
  {
   "cell_type": "code",
   "execution_count": 45,
   "metadata": {
    "execution": {
     "iopub.execute_input": "2020-08-29T16:42:26.175581Z",
     "iopub.status.busy": "2020-08-29T16:42:26.174917Z",
     "iopub.status.idle": "2020-08-29T16:42:26.177615Z",
     "shell.execute_reply": "2020-08-29T16:42:26.178067Z"
    },
    "papermill": {
     "duration": 0.02857,
     "end_time": "2020-08-29T16:42:26.178203",
     "exception": false,
     "start_time": "2020-08-29T16:42:26.149633",
     "status": "completed"
    },
    "tags": []
   },
   "outputs": [
    {
     "data": {
      "text/plain": [
       "495    0\n",
       "648    0\n",
       "278    0\n",
       "31     1\n",
       "255    1\n",
       "      ..\n",
       "150    0\n",
       "501    1\n",
       "494    0\n",
       "784    0\n",
       "113    1\n",
       "Length: 134, dtype: int64"
      ]
     },
     "execution_count": 45,
     "metadata": {},
     "output_type": "execute_result"
    }
   ],
   "source": [
    "y_pred1"
   ]
  },
  {
   "cell_type": "code",
   "execution_count": 46,
   "metadata": {
    "execution": {
     "iopub.execute_input": "2020-08-29T16:42:26.220009Z",
     "iopub.status.busy": "2020-08-29T16:42:26.219315Z",
     "iopub.status.idle": "2020-08-29T16:42:26.225872Z",
     "shell.execute_reply": "2020-08-29T16:42:26.226353Z"
    },
    "papermill": {
     "duration": 0.029198,
     "end_time": "2020-08-29T16:42:26.226525",
     "exception": false,
     "start_time": "2020-08-29T16:42:26.197327",
     "status": "completed"
    },
    "tags": []
   },
   "outputs": [
    {
     "name": "stdout",
     "output_type": "stream",
     "text": [
      "0.8059701492537313\n"
     ]
    }
   ],
   "source": [
    "print(metrics.accuracy_score(y_pred1, y_test))"
   ]
  },
  {
   "cell_type": "code",
   "execution_count": 47,
   "metadata": {
    "execution": {
     "iopub.execute_input": "2020-08-29T16:42:26.268451Z",
     "iopub.status.busy": "2020-08-29T16:42:26.267809Z",
     "iopub.status.idle": "2020-08-29T16:42:26.289735Z",
     "shell.execute_reply": "2020-08-29T16:42:26.290468Z"
    },
    "papermill": {
     "duration": 0.04477,
     "end_time": "2020-08-29T16:42:26.290637",
     "exception": false,
     "start_time": "2020-08-29T16:42:26.245867",
     "status": "completed"
    },
    "tags": []
   },
   "outputs": [
    {
     "data": {
      "text/html": [
       "<div>\n",
       "<style scoped>\n",
       "    .dataframe tbody tr th:only-of-type {\n",
       "        vertical-align: middle;\n",
       "    }\n",
       "\n",
       "    .dataframe tbody tr th {\n",
       "        vertical-align: top;\n",
       "    }\n",
       "\n",
       "    .dataframe thead th {\n",
       "        text-align: right;\n",
       "    }\n",
       "</style>\n",
       "<table border=\"1\" class=\"dataframe\">\n",
       "  <thead>\n",
       "    <tr style=\"text-align: right;\">\n",
       "      <th></th>\n",
       "      <th>Features</th>\n",
       "      <th>VIF</th>\n",
       "    </tr>\n",
       "  </thead>\n",
       "  <tbody>\n",
       "    <tr>\n",
       "      <th>0</th>\n",
       "      <td>Pclass</td>\n",
       "      <td>4.56</td>\n",
       "    </tr>\n",
       "    <tr>\n",
       "      <th>4</th>\n",
       "      <td>S</td>\n",
       "      <td>4.03</td>\n",
       "    </tr>\n",
       "    <tr>\n",
       "      <th>3</th>\n",
       "      <td>C</td>\n",
       "      <td>1.58</td>\n",
       "    </tr>\n",
       "    <tr>\n",
       "      <th>1</th>\n",
       "      <td>Sex</td>\n",
       "      <td>1.49</td>\n",
       "    </tr>\n",
       "    <tr>\n",
       "      <th>2</th>\n",
       "      <td>SibSp</td>\n",
       "      <td>1.26</td>\n",
       "    </tr>\n",
       "  </tbody>\n",
       "</table>\n",
       "</div>"
      ],
      "text/plain": [
       "  Features   VIF\n",
       "0   Pclass  4.56\n",
       "4        S  4.03\n",
       "3        C  1.58\n",
       "1      Sex  1.49\n",
       "2    SibSp  1.26"
      ]
     },
     "execution_count": 47,
     "metadata": {},
     "output_type": "execute_result"
    }
   ],
   "source": [
    "#VIF\n",
    "#VIF is good enough\n",
    "x_train_t = x_train[col1]\n",
    "from statsmodels.stats.outliers_influence import variance_inflation_factor\n",
    "vif = pd.DataFrame()\n",
    "vif['Features'] = col1\n",
    "vif['VIF'] = [variance_inflation_factor(x_train_t.values, i) for i in range(x_train_t.shape[1])]\n",
    "vif['VIF'] = round(vif['VIF'], 2)\n",
    "vif = vif.sort_values(by = \"VIF\", ascending = False)\n",
    "vif"
   ]
  },
  {
   "cell_type": "markdown",
   "metadata": {
    "papermill": {
     "duration": 0.01955,
     "end_time": "2020-08-29T16:42:26.332656",
     "exception": false,
     "start_time": "2020-08-29T16:42:26.313106",
     "status": "completed"
    },
    "tags": []
   },
   "source": [
    "<h2> Preparing test data for prediction and kaggle submission </h2>"
   ]
  },
  {
   "cell_type": "code",
   "execution_count": 48,
   "metadata": {
    "execution": {
     "iopub.execute_input": "2020-08-29T16:42:26.375444Z",
     "iopub.status.busy": "2020-08-29T16:42:26.374763Z",
     "iopub.status.idle": "2020-08-29T16:42:26.387381Z",
     "shell.execute_reply": "2020-08-29T16:42:26.388068Z"
    },
    "papermill": {
     "duration": 0.035841,
     "end_time": "2020-08-29T16:42:26.388205",
     "exception": false,
     "start_time": "2020-08-29T16:42:26.352364",
     "status": "completed"
    },
    "tags": []
   },
   "outputs": [
    {
     "data": {
      "text/plain": [
       "(418, 11)"
      ]
     },
     "execution_count": 48,
     "metadata": {},
     "output_type": "execute_result"
    }
   ],
   "source": [
    "test = pd.read_csv(\"/kaggle/input/titanic/test.csv\")\n",
    "test.shape"
   ]
  },
  {
   "cell_type": "code",
   "execution_count": 49,
   "metadata": {
    "execution": {
     "iopub.execute_input": "2020-08-29T16:42:26.437907Z",
     "iopub.status.busy": "2020-08-29T16:42:26.436868Z",
     "iopub.status.idle": "2020-08-29T16:42:26.448675Z",
     "shell.execute_reply": "2020-08-29T16:42:26.448125Z"
    },
    "papermill": {
     "duration": 0.040813,
     "end_time": "2020-08-29T16:42:26.448786",
     "exception": false,
     "start_time": "2020-08-29T16:42:26.407973",
     "status": "completed"
    },
    "tags": []
   },
   "outputs": [
    {
     "data": {
      "text/html": [
       "<div>\n",
       "<style scoped>\n",
       "    .dataframe tbody tr th:only-of-type {\n",
       "        vertical-align: middle;\n",
       "    }\n",
       "\n",
       "    .dataframe tbody tr th {\n",
       "        vertical-align: top;\n",
       "    }\n",
       "\n",
       "    .dataframe thead th {\n",
       "        text-align: right;\n",
       "    }\n",
       "</style>\n",
       "<table border=\"1\" class=\"dataframe\">\n",
       "  <thead>\n",
       "    <tr style=\"text-align: right;\">\n",
       "      <th></th>\n",
       "      <th>PassengerId</th>\n",
       "      <th>Pclass</th>\n",
       "      <th>Name</th>\n",
       "      <th>Sex</th>\n",
       "      <th>Age</th>\n",
       "      <th>SibSp</th>\n",
       "      <th>Parch</th>\n",
       "      <th>Ticket</th>\n",
       "      <th>Fare</th>\n",
       "      <th>Cabin</th>\n",
       "      <th>Embarked</th>\n",
       "    </tr>\n",
       "  </thead>\n",
       "  <tbody>\n",
       "    <tr>\n",
       "      <th>0</th>\n",
       "      <td>892</td>\n",
       "      <td>3</td>\n",
       "      <td>Kelly, Mr. James</td>\n",
       "      <td>male</td>\n",
       "      <td>34.5</td>\n",
       "      <td>0</td>\n",
       "      <td>0</td>\n",
       "      <td>330911</td>\n",
       "      <td>7.8292</td>\n",
       "      <td>NaN</td>\n",
       "      <td>Q</td>\n",
       "    </tr>\n",
       "    <tr>\n",
       "      <th>1</th>\n",
       "      <td>893</td>\n",
       "      <td>3</td>\n",
       "      <td>Wilkes, Mrs. James (Ellen Needs)</td>\n",
       "      <td>female</td>\n",
       "      <td>47.0</td>\n",
       "      <td>1</td>\n",
       "      <td>0</td>\n",
       "      <td>363272</td>\n",
       "      <td>7.0000</td>\n",
       "      <td>NaN</td>\n",
       "      <td>S</td>\n",
       "    </tr>\n",
       "    <tr>\n",
       "      <th>2</th>\n",
       "      <td>894</td>\n",
       "      <td>2</td>\n",
       "      <td>Myles, Mr. Thomas Francis</td>\n",
       "      <td>male</td>\n",
       "      <td>62.0</td>\n",
       "      <td>0</td>\n",
       "      <td>0</td>\n",
       "      <td>240276</td>\n",
       "      <td>9.6875</td>\n",
       "      <td>NaN</td>\n",
       "      <td>Q</td>\n",
       "    </tr>\n",
       "    <tr>\n",
       "      <th>3</th>\n",
       "      <td>895</td>\n",
       "      <td>3</td>\n",
       "      <td>Wirz, Mr. Albert</td>\n",
       "      <td>male</td>\n",
       "      <td>27.0</td>\n",
       "      <td>0</td>\n",
       "      <td>0</td>\n",
       "      <td>315154</td>\n",
       "      <td>8.6625</td>\n",
       "      <td>NaN</td>\n",
       "      <td>S</td>\n",
       "    </tr>\n",
       "    <tr>\n",
       "      <th>4</th>\n",
       "      <td>896</td>\n",
       "      <td>3</td>\n",
       "      <td>Hirvonen, Mrs. Alexander (Helga E Lindqvist)</td>\n",
       "      <td>female</td>\n",
       "      <td>22.0</td>\n",
       "      <td>1</td>\n",
       "      <td>1</td>\n",
       "      <td>3101298</td>\n",
       "      <td>12.2875</td>\n",
       "      <td>NaN</td>\n",
       "      <td>S</td>\n",
       "    </tr>\n",
       "  </tbody>\n",
       "</table>\n",
       "</div>"
      ],
      "text/plain": [
       "   PassengerId  Pclass                                          Name     Sex  \\\n",
       "0          892       3                              Kelly, Mr. James    male   \n",
       "1          893       3              Wilkes, Mrs. James (Ellen Needs)  female   \n",
       "2          894       2                     Myles, Mr. Thomas Francis    male   \n",
       "3          895       3                              Wirz, Mr. Albert    male   \n",
       "4          896       3  Hirvonen, Mrs. Alexander (Helga E Lindqvist)  female   \n",
       "\n",
       "    Age  SibSp  Parch   Ticket     Fare Cabin Embarked  \n",
       "0  34.5      0      0   330911   7.8292   NaN        Q  \n",
       "1  47.0      1      0   363272   7.0000   NaN        S  \n",
       "2  62.0      0      0   240276   9.6875   NaN        Q  \n",
       "3  27.0      0      0   315154   8.6625   NaN        S  \n",
       "4  22.0      1      1  3101298  12.2875   NaN        S  "
      ]
     },
     "execution_count": 49,
     "metadata": {},
     "output_type": "execute_result"
    }
   ],
   "source": [
    "test.head()"
   ]
  },
  {
   "cell_type": "code",
   "execution_count": 50,
   "metadata": {
    "execution": {
     "iopub.execute_input": "2020-08-29T16:42:26.495366Z",
     "iopub.status.busy": "2020-08-29T16:42:26.494502Z",
     "iopub.status.idle": "2020-08-29T16:42:26.498426Z",
     "shell.execute_reply": "2020-08-29T16:42:26.497863Z"
    },
    "papermill": {
     "duration": 0.029818,
     "end_time": "2020-08-29T16:42:26.498546",
     "exception": false,
     "start_time": "2020-08-29T16:42:26.468728",
     "status": "completed"
    },
    "tags": []
   },
   "outputs": [],
   "source": [
    "test.drop([\"Name\", \"PassengerId\"], axis = 1, inplace = True)"
   ]
  },
  {
   "cell_type": "code",
   "execution_count": 51,
   "metadata": {
    "execution": {
     "iopub.execute_input": "2020-08-29T16:42:26.545204Z",
     "iopub.status.busy": "2020-08-29T16:42:26.544428Z",
     "iopub.status.idle": "2020-08-29T16:42:26.546997Z",
     "shell.execute_reply": "2020-08-29T16:42:26.547510Z"
    },
    "papermill": {
     "duration": 0.029084,
     "end_time": "2020-08-29T16:42:26.547646",
     "exception": false,
     "start_time": "2020-08-29T16:42:26.518562",
     "status": "completed"
    },
    "tags": []
   },
   "outputs": [],
   "source": [
    "test[\"Sex\"] = test[\"Sex\"].apply(binary_map)"
   ]
  },
  {
   "cell_type": "code",
   "execution_count": 52,
   "metadata": {
    "execution": {
     "iopub.execute_input": "2020-08-29T16:42:26.593340Z",
     "iopub.status.busy": "2020-08-29T16:42:26.592061Z",
     "iopub.status.idle": "2020-08-29T16:42:26.596816Z",
     "shell.execute_reply": "2020-08-29T16:42:26.596154Z"
    },
    "papermill": {
     "duration": 0.029566,
     "end_time": "2020-08-29T16:42:26.596927",
     "exception": false,
     "start_time": "2020-08-29T16:42:26.567361",
     "status": "completed"
    },
    "tags": []
   },
   "outputs": [],
   "source": [
    "test.drop([\"Ticket\"], axis = 1, inplace = True)"
   ]
  },
  {
   "cell_type": "code",
   "execution_count": 53,
   "metadata": {
    "execution": {
     "iopub.execute_input": "2020-08-29T16:42:26.643272Z",
     "iopub.status.busy": "2020-08-29T16:42:26.642621Z",
     "iopub.status.idle": "2020-08-29T16:42:26.646429Z",
     "shell.execute_reply": "2020-08-29T16:42:26.645911Z"
    },
    "papermill": {
     "duration": 0.029719,
     "end_time": "2020-08-29T16:42:26.646562",
     "exception": false,
     "start_time": "2020-08-29T16:42:26.616843",
     "status": "completed"
    },
    "tags": []
   },
   "outputs": [],
   "source": [
    "test[\"Cabin\"] = test[\"Cabin\"].apply(map_for_cabin)"
   ]
  },
  {
   "cell_type": "code",
   "execution_count": 54,
   "metadata": {
    "execution": {
     "iopub.execute_input": "2020-08-29T16:42:26.697501Z",
     "iopub.status.busy": "2020-08-29T16:42:26.696744Z",
     "iopub.status.idle": "2020-08-29T16:42:26.699815Z",
     "shell.execute_reply": "2020-08-29T16:42:26.700278Z"
    },
    "papermill": {
     "duration": 0.034182,
     "end_time": "2020-08-29T16:42:26.700464",
     "exception": false,
     "start_time": "2020-08-29T16:42:26.666282",
     "status": "completed"
    },
    "tags": []
   },
   "outputs": [],
   "source": [
    "\n",
    "Emb1 = pd.get_dummies(test['Embarked'])\n",
    "test = pd.concat([test, Emb1], axis = 1)\n",
    "\n",
    "#No use of it afte creating dummy variables\n",
    "test.drop([\"Embarked\"], axis = 1, inplace = True)\n"
   ]
  },
  {
   "cell_type": "code",
   "execution_count": 55,
   "metadata": {
    "execution": {
     "iopub.execute_input": "2020-08-29T16:42:26.747474Z",
     "iopub.status.busy": "2020-08-29T16:42:26.746488Z",
     "iopub.status.idle": "2020-08-29T16:42:26.749874Z",
     "shell.execute_reply": "2020-08-29T16:42:26.749347Z"
    },
    "papermill": {
     "duration": 0.029174,
     "end_time": "2020-08-29T16:42:26.749999",
     "exception": false,
     "start_time": "2020-08-29T16:42:26.720825",
     "status": "completed"
    },
    "tags": []
   },
   "outputs": [],
   "source": [
    "test = test[col1]"
   ]
  },
  {
   "cell_type": "code",
   "execution_count": 56,
   "metadata": {
    "execution": {
     "iopub.execute_input": "2020-08-29T16:42:26.798925Z",
     "iopub.status.busy": "2020-08-29T16:42:26.798181Z",
     "iopub.status.idle": "2020-08-29T16:42:26.801607Z",
     "shell.execute_reply": "2020-08-29T16:42:26.801028Z"
    },
    "papermill": {
     "duration": 0.031282,
     "end_time": "2020-08-29T16:42:26.801730",
     "exception": false,
     "start_time": "2020-08-29T16:42:26.770448",
     "status": "completed"
    },
    "tags": []
   },
   "outputs": [],
   "source": [
    "y_pred2 = model2.predict(sm.add_constant(test))"
   ]
  },
  {
   "cell_type": "code",
   "execution_count": 57,
   "metadata": {
    "execution": {
     "iopub.execute_input": "2020-08-29T16:42:26.848939Z",
     "iopub.status.busy": "2020-08-29T16:42:26.848035Z",
     "iopub.status.idle": "2020-08-29T16:42:26.850984Z",
     "shell.execute_reply": "2020-08-29T16:42:26.850310Z"
    },
    "papermill": {
     "duration": 0.028709,
     "end_time": "2020-08-29T16:42:26.851103",
     "exception": false,
     "start_time": "2020-08-29T16:42:26.822394",
     "status": "completed"
    },
    "tags": []
   },
   "outputs": [],
   "source": [
    "y_pred2 = y_pred2.apply(Categ)"
   ]
  },
  {
   "cell_type": "code",
   "execution_count": 58,
   "metadata": {
    "execution": {
     "iopub.execute_input": "2020-08-29T16:42:26.897518Z",
     "iopub.status.busy": "2020-08-29T16:42:26.895931Z",
     "iopub.status.idle": "2020-08-29T16:42:26.901623Z",
     "shell.execute_reply": "2020-08-29T16:42:26.900940Z"
    },
    "papermill": {
     "duration": 0.030655,
     "end_time": "2020-08-29T16:42:26.901736",
     "exception": false,
     "start_time": "2020-08-29T16:42:26.871081",
     "status": "completed"
    },
    "tags": []
   },
   "outputs": [
    {
     "data": {
      "text/plain": [
       "0      0\n",
       "1      1\n",
       "2      0\n",
       "3      0\n",
       "4      1\n",
       "      ..\n",
       "413    0\n",
       "414    1\n",
       "415    0\n",
       "416    0\n",
       "417    0\n",
       "Length: 418, dtype: int64"
      ]
     },
     "execution_count": 58,
     "metadata": {},
     "output_type": "execute_result"
    }
   ],
   "source": [
    "y_pred2"
   ]
  },
  {
   "cell_type": "markdown",
   "metadata": {
    "papermill": {
     "duration": 0.019447,
     "end_time": "2020-08-29T16:42:26.941171",
     "exception": false,
     "start_time": "2020-08-29T16:42:26.921724",
     "status": "completed"
    },
    "tags": []
   },
   "source": [
    "<h3> Kaggle submission </h3>"
   ]
  },
  {
   "cell_type": "code",
   "execution_count": 59,
   "metadata": {
    "execution": {
     "iopub.execute_input": "2020-08-29T16:42:26.988287Z",
     "iopub.status.busy": "2020-08-29T16:42:26.987530Z",
     "iopub.status.idle": "2020-08-29T16:42:27.092225Z",
     "shell.execute_reply": "2020-08-29T16:42:27.091676Z"
    },
    "papermill": {
     "duration": 0.130417,
     "end_time": "2020-08-29T16:42:27.092347",
     "exception": false,
     "start_time": "2020-08-29T16:42:26.961930",
     "status": "completed"
    },
    "tags": []
   },
   "outputs": [],
   "source": [
    "sub = pd.read_csv(\"/kaggle/input/titanic/gender_submission.csv\")\n",
    "my_submission = pd.DataFrame({'PassengerId':sub.PassengerId,'Survived': y_pred2})\n",
    "# you could use any filename. We choose submission here\n",
    "my_submission.to_csv('submission.csv', index=False)"
   ]
  },
  {
   "cell_type": "code",
   "execution_count": null,
   "metadata": {
    "papermill": {
     "duration": 0.019678,
     "end_time": "2020-08-29T16:42:27.132228",
     "exception": false,
     "start_time": "2020-08-29T16:42:27.112550",
     "status": "completed"
    },
    "tags": []
   },
   "outputs": [],
   "source": []
  }
 ],
 "metadata": {
  "kernelspec": {
   "display_name": "Python 3",
   "language": "python",
   "name": "python3"
  },
  "language_info": {
   "codemirror_mode": {
    "name": "ipython",
    "version": 3
   },
   "file_extension": ".py",
   "mimetype": "text/x-python",
   "name": "python",
   "nbconvert_exporter": "python",
   "pygments_lexer": "ipython3",
   "version": "3.6.1"
  },
  "papermill": {
   "duration": 12.213918,
   "end_time": "2020-08-29T16:42:27.260867",
   "environment_variables": {},
   "exception": null,
   "input_path": "__notebook__.ipynb",
   "output_path": "__notebook__.ipynb",
   "parameters": {},
   "start_time": "2020-08-29T16:42:15.046949",
   "version": "2.1.0"
  }
 },
 "nbformat": 4,
 "nbformat_minor": 4
}
